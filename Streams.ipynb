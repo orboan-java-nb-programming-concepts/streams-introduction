{
 "cells": [
  {
   "cell_type": "markdown",
   "metadata": {
    "ExecuteTime": {
     "end_time": "2021-01-09T13:10+0000",
     "start_time": "2021-01-09T13:08:38.568Z"
    },
    "heading_collapsed": true
   },
   "source": [
    "# Parametrització del comportament\n",
    "<a id=\"param\"></a>"
   ]
  },
  {
   "cell_type": "markdown",
   "metadata": {
    "heading_collapsed": true,
    "hidden": true
   },
   "source": [
    "## Interfícies funcionals"
   ]
  },
  {
   "cell_type": "markdown",
   "metadata": {
    "hidden": true
   },
   "source": [
    "Podeu **repassar** els conceptes de parametrització de comportament i interfícies funcionals en la **primera part** d'un dels exercicis pràctics d'aquest curs:\n",
    "\n",
    "https://github.com/orboan-basic-programming-exercises/interficies-funcionals"
   ]
  },
  {
   "cell_type": "markdown",
   "metadata": {
    "heading_collapsed": true,
    "hidden": true
   },
   "source": [
    "## Lambdes"
   ]
  },
  {
   "cell_type": "markdown",
   "metadata": {
    "hidden": true
   },
   "source": [
    "Podeu **repassar** els conceptes de parametrització de comportament i expressions lambda en la **segona part** d'un dels exercicis pràctics d'aquest curs:\n",
    "\n",
    "https://github.com/orboan-basic-programming-exercises/lambdes"
   ]
  },
  {
   "cell_type": "markdown",
   "metadata": {},
   "source": [
    "# Introducció als Streams\n",
    "\n",
    "Per a introduir els Streams de Java, cal fer una breu explicació dels següents conceptes:\n",
    "\n",
    "* Lambdes i parametrització del comportament.\n",
    "\n",
    "* Programació imperativa i programació funcional.\n",
    "\n",
    "* Elements d'un ``Stream``.\n",
    "\n",
    "* La classe ``Optional``\n",
    "\n",
    "Les lambdes i les interfícies funcionals estan explicades a l'apartat de [Parametrització del Comportament](#param). Són conceptes ja vistos amb anterioritat en aquest curs de programació.\n",
    "\n",
    "La resta de conceptes s'expliquen, amb exemples, a continuació.\n"
   ]
  },
  {
   "cell_type": "markdown",
   "metadata": {
    "heading_collapsed": true
   },
   "source": [
    "## Programació imperativa"
   ]
  },
  {
   "cell_type": "markdown",
   "metadata": {
    "hidden": true
   },
   "source": [
    "La programació **imperativa** és la programació que s'apren inicialment als cursos de programació. \n",
    "\n",
    "Consisteix essencialment a programar **com** volem que es processin una sèrie d'instruccions, és a dir, és el programador qui determina l'algorisme d'execució. \n",
    "\n",
    "**En programació imperativa, l'ordre en què s'escriuen les instruccions forma part del disseny de l'algorisme i la variació en l'ordre pot fer canviar el resultat final a obtenir**.\n",
    "\n",
    "Per exemple, suposem que hem de fer un programa que ordeni un array d'enters, de menor a major. Per a aconseguir-ho el programador pot decidir usar (és a dir, **implementar**) algun dels algorismes coneguts d'ordenació: _insertion sort_, _bubble sort_, _quick sort_ i d'altres. En cadascun d'aquests algorismes hi ha una sèrie d'instruccions, una darrera l'altre, que determinen el **com** es processarà l'array per tal d'ordenar-lo. Així, diem que **imperativament** el programador determina l'ordre de les passes a fer.\n",
    "\n",
    "Les passes a fer, en programació **imperativa** poden incloure elements de programació com els següents:\n",
    "\n",
    "* L'ús de variables, consistent en associacions entre noms (de les variables) i els seus valors.\n",
    "\n",
    "* Seqüències d'instruccions:\n",
    "\n",
    "    - Assignacions (de valors a variables).\n",
    "    \n",
    "    - Els valors de les variables poden canviar.\n",
    "    \n",
    "    - Les expressions poden usar variables, **el valor de les quals poden haver canviat** des d'una altra part del programa.\n",
    "    \n",
    "    - Els valors es poden passar des d'una instrucció a una altra (per exemple, com a arguments en la crida d'una funció).\n",
    "    \n",
    "    - Les instruccions es poden repetir usant bucles, o bifurcar usant condicionals.\n",
    "\n",
    "FORTRAN, Pascal o C són exemples de llenguatges de programació purament imperatius."
   ]
  },
  {
   "cell_type": "markdown",
   "metadata": {
    "ExecuteTime": {
     "end_time": "2021-01-09T12:36+0000",
     "start_time": "2021-01-09T12:34:37.940Z"
    },
    "heading_collapsed": true
   },
   "source": [
    "## Programació Funcional"
   ]
  },
  {
   "cell_type": "markdown",
   "metadata": {
    "hidden": true
   },
   "source": [
    "En l'anomenada **programació funcional**, el programador no s'ha de preocupar, en cap cas, d'haver de decidir ni d'implementar el **com**. En **programació funcional** el programador només ha de decidir el **què**.\n",
    "\n",
    "**En programació funcional, l'ordre en què s'executen les funcions que fan allò _que_ es vol, no determina el resultat final, és a dir, la variació en l'ordre no pot fer canviar el resultat final a obtenir**.\n",
    "\n",
    "Per exemple, si el programador necessita que un array d'enters s'ordeni de menor a major, **només haurà d'escriure una línia de codi demanant que es faci l'ordenació de l'array**, però no haurà de decidir ni implementar quin serà l'algorisme d'ordenació (_bubble sort_, _quick sort_, etc.) que s'usarà.\n",
    "\n",
    "Si a més, el programador vol eliminar tots els enters negatius de l'array d'enters, **només haurà d'escriure una peça de codi demanant que es filtri l'array eliminant els valors negatius**, però no haurà de decidir com s'haurà de fer això.\n",
    "\n",
    "> El resultat final, en programació funcional, sempre serà el mateix, tant si primer s'ordena l'array i després s'eliminen els enters negatius, com si primer s'eliminen els enters negatius i després s'ordena l'array.\n",
    "\n",
    "Per a que això sigui possible, el llenguatge de programació ha de ser capaç de **decidir per sí sol** quina és la manera **més òptima** d'ordenar l'array d'enters, i això pot dependre de diferents factors com ara (entre d'altres):\n",
    "\n",
    "* la mida de l'array (és un array de desenes o de milions d'elements?) \n",
    "\n",
    "* la disponibilitat de diferents fils d'execució en el hardware de l'ordinador\n",
    "\n",
    "* de si l'execució es pot distribuir en un clúster d'ordinadors\n"
   ]
  },
  {
   "cell_type": "markdown",
   "metadata": {
    "hidden": true
   },
   "source": [
    "En programació funcional, el programador diu el **què** cal fer, i ho diu cridant **funcions**, però també passant **funcions** com a **arguments** a d'altres funcions:\n",
    "\n",
    "* En programació imperativa només es poden passar **variables** o **valors** com a arguments de funcions.\n",
    "\n",
    "* En programació _Orientada a Objecte_, a més, podem passar **objectes** com a arguments de funcions (**els objectes són un tipus de valors**).\n",
    "\n",
    "* En programació funcional, a més, es poden **passar funcions com a arguments d'altres funcions**.\n",
    "\n",
    "* En programació funcional, els objectes o variables que es passen per paràmetres, hauran de ser **immutables** (veieu l'apartat [Immutabilitat](#immutability)).\n",
    "\n",
    "* En programació funcional no existeix el concepte d'instrucció o comanda, és a dir, no existeixen els bucles ni els condicionals -bifurcacions- segons els usem en programació imperativa (recordeu que **no** cal programar el **com**, només dir el **què**)."
   ]
  },
  {
   "cell_type": "markdown",
   "metadata": {
    "hidden": true
   },
   "source": [
    "**Java és un llenguatge de programació imperatiu i Orientat a Objecte**. Des de la versió 8, Java ha introduit característiques de programació funcional.\n",
    "\n",
    "Com que Java _no és un llenguatge de programació funcional_, per a que sigui possible programar amb Java com si fos un llenguatge de programació funcional, Java ha hagut d'incorporar:\n",
    "\n",
    "* a la sintaxi del mateix llenguatge conceptes com ara les lambdes i les _method references_,\n",
    "\n",
    "* introduir conceptes com ara les **interfícies funcionals** que _fan de pont entre la programació Orientada a Objecte i la programació funcional_,\n",
    "\n",
    "* afegir en la seva API les classes, interfícies i mètodes necessaris (que incorporin les implementacions de les operacions més comunes). Per exemple, s'introdueixen un munt d'interfícies funcionals, i s'introdueix la llibreria dels **Streams**. \n",
    "\n",
    "Per a entendre millor com Java incorpora la programació funcional des de la seva versió 8, us recomanem llegiu l'apartat de [Parametrització del Comportament](#param).\n",
    "\n",
    "En els següents subapartats us fem una breu introducció a conceptes fortament relacionats amb la programació funcional, que us ajudaran a entendre millor com funcionen els Streams de Java."
   ]
  },
  {
   "cell_type": "markdown",
   "metadata": {
    "heading_collapsed": true,
    "hidden": true
   },
   "source": [
    "### HOF (High Order Functions)"
   ]
  },
  {
   "cell_type": "markdown",
   "metadata": {
    "hidden": true
   },
   "source": [
    "En matemàtiques i en enginyeria informàtica, una HOF (_High Order Function_) és una funció que almenys compleix amb un dels dos següents requeriments (pot complir els dos):\n",
    "\n",
    "* pot rebre una o més funcions com a arguments,\n",
    "\n",
    "* retorna una funció com a resultat.\n",
    "\n",
    "Les HOF també són anomenades, en el món de la programació, com a **first-class functions**. Segons _Wikipedia_ [First Class Functions](https://en.wikipedia.org/wiki/First-class_function) són:\n",
    "\n",
    "> En informàtica, es diu que un llenguatge de programació té funcions de primera classe si tracta les funcions com a [ciutadans de primera classe](https://en.wikipedia.org/wiki/First-class_citizen). Això significa que el llenguatge admet passar funcions com a arguments a altres funcions, retornant-les com a valors d'altres funcions i assignant-les a variables o emmagatzemant-les en estructures de dades.\n",
    "\n",
    "En un llenguatge de programació, entenem per _Ciutadà de primera classe_ a:\n",
    "\n",
    "> Un _ciutadà de primera classe_ (també tipus, objecte, entitat o valor) en un llenguatge de programació és una entitat que admet totes les operacions generalment disponibles per a altres entitats. Aquestes operacions normalment inclouen **passar-se com a argument**, **retornar-se d'una funció**, **modificar-les** i **assignar-les a una variable**.\n"
   ]
  },
  {
   "cell_type": "markdown",
   "metadata": {
    "heading_collapsed": true,
    "hidden": true
   },
   "source": [
    "##### Exemple: \n",
    "Per exemple, en Java, els objectes són _ciutadans de primera classe_:"
   ]
  },
  {
   "cell_type": "code",
   "execution_count": null,
   "metadata": {
    "ExecuteTime": {
     "end_time": "2021-01-09T22:48+0000",
     "start_time": "2021-01-09T22:46:43.919Z"
    },
    "hidden": true
   },
   "outputs": [],
   "source": [
    "// Objects can be assigned to variables\n",
    "Object obj = new String(\"I am a first citizen entity\");\n",
    "\n",
    "//Objects can be passed as arguments to other functions\n",
    "System.out.println(obj);"
   ]
  },
  {
   "cell_type": "markdown",
   "metadata": {
    "hidden": true
   },
   "source": [
    "Els objectes, en Java, també poden ésser retornats per una funció:"
   ]
  },
  {
   "cell_type": "code",
   "execution_count": null,
   "metadata": {
    "ExecuteTime": {
     "end_time": "2021-01-09T22:48+0000",
     "start_time": "2021-01-09T22:46:43.940Z"
    },
    "hidden": true
   },
   "outputs": [],
   "source": [
    "//The toString() method returns an object of type String\n",
    "String str = obj.toString();"
   ]
  },
  {
   "cell_type": "markdown",
   "metadata": {
    "heading_collapsed": true,
    "hidden": true
   },
   "source": [
    "##### Exemple:\n",
    "En Java, però, les funcions **no** són _ciutadans de primera classe_:"
   ]
  },
  {
   "cell_type": "code",
   "execution_count": null,
   "metadata": {
    "ExecuteTime": {
     "end_time": "2021-01-09T23:01+0000",
     "start_time": "2021-01-09T22:59:36.205Z"
    },
    "hidden": true
   },
   "outputs": [],
   "source": [
    "//Java\n",
    "int multiply(int x, int y) {\n",
    "    return x * y;\n",
    "}\n",
    "\n",
    "//In Java it is not natively possible to store a function into a variable\n",
    "var s = multiply;"
   ]
  },
  {
   "cell_type": "markdown",
   "metadata": {
    "hidden": true
   },
   "source": [
    "En aquest darrer exemple, usant ```var``` Java **no pot inferir** el tipus de dada de la variable ```s```, ja que no existeix un tipus de dada _nadiu_ per a funcions."
   ]
  },
  {
   "cell_type": "markdown",
   "metadata": {
    "hidden": true
   },
   "source": [
    "En Javascript o en Python, les funcions sí són _ciutadans de primera classe_ i es poden, per tant, guardar en variables:\n",
    "\n",
    "```javascript\n",
    "//Javascript\n",
    "function square(n) {\n",
    "    return n * n;\n",
    "}\n",
    "\n",
    "//In Javascript yes, it is possible to store a function into a variable\n",
    "var s = square;\n",
    "```\n",
    "\n",
    "```python\n",
    "# python\n",
    "def square(n):\n",
    "    return n * n\n",
    "#In python yes, it is also possible to store a function into a variable\n",
    "s = square\n",
    "```"
   ]
  },
  {
   "cell_type": "markdown",
   "metadata": {
    "heading_collapsed": true,
    "hidden": true
   },
   "source": [
    "##### Exemple:\n",
    "En Java, les interfícies funcionals fan de pont entre el paradigma de programació **Orientada a Objecte** nadiu de Java, i la possibilitat de programar amb Java seguint el paradigma de **programació funcional**:"
   ]
  },
  {
   "cell_type": "code",
   "execution_count": null,
   "metadata": {
    "ExecuteTime": {
     "end_time": "2021-01-09T23:05+0000",
     "start_time": "2021-01-09T23:04:05.693Z"
    },
    "hidden": true
   },
   "outputs": [],
   "source": [
    "//Importing the Function functional interface from the Java API\n",
    "import java.util.function.Function;\n",
    "\n",
    "int square(int n) {\n",
    "    return n * n;\n",
    "}\n",
    "\n",
    "//The square function is assigned to the variable s\n",
    "//The variable s is of type Function, which is a functional interface\n",
    "Function<Integer,Integer> s = square;\n",
    "\n",
    "//If var is used, Java now can infer the data type as Function\n",
    "var s2 = square;\n",
    "\n",
    "//The functional interface method is named apply\n",
    "System.out.println(s.apply(3));\n",
    "System.out.println(s2.apply(5));"
   ]
  },
  {
   "cell_type": "markdown",
   "metadata": {
    "hidden": true
   },
   "source": [
    "El codi Java anterior es pot abreujar usant lambdes. Veieu l'apartat [Parametrització del Comportament](#param):"
   ]
  },
  {
   "cell_type": "code",
   "execution_count": null,
   "metadata": {
    "ExecuteTime": {
     "end_time": "2021-01-09T23:08+0000",
     "start_time": "2021-01-09T23:07:11.811Z"
    },
    "hidden": true
   },
   "outputs": [],
   "source": [
    "import java.util.function.Function;\n",
    "\n",
    "Function<Integer, Integer> s = n -> n * n;\n",
    "s.apply(3);"
   ]
  },
  {
   "cell_type": "markdown",
   "metadata": {
    "hidden": true
   },
   "source": [
    "Compte perquè les lambdes no permeten la inferència del tipus de dada. Si escribim\n",
    "```java\n",
    "var s = n -> n * n;\n",
    "```\n",
    "obtindrem l'error següent:\n",
    "```\n",
    "cannot infer type for local variable s\n",
    "  (lambda expression needs an explicit target-type)\n",
    "```"
   ]
  },
  {
   "cell_type": "code",
   "execution_count": null,
   "metadata": {
    "ExecuteTime": {
     "end_time": "2021-01-09T23:08+0000",
     "start_time": "2021-01-09T23:06:52.328Z"
    },
    "hidden": true
   },
   "outputs": [],
   "source": [
    "var s = n -> n * n;"
   ]
  },
  {
   "cell_type": "markdown",
   "metadata": {
    "heading_collapsed": true,
    "hidden": true
   },
   "source": [
    "### Funcions Pures"
   ]
  },
  {
   "cell_type": "markdown",
   "metadata": {
    "hidden": true
   },
   "source": [
    "Una **funció pura** és aquella que compleix els dos següents requeriments:\n",
    "\n",
    "1. **Per als mateixos valors que se li passen com a arguments**, **sempre retorna el mateix resultat**.\n",
    "\n",
    "2. **No té efectes secundaris**.\n",
    "\n",
    "En altres paraules, (1) les funcions pures no depenen de factors externs a la mateixa funció, com pot ser el valor que pugui pendre una variable d'un àmbit extern a la funció, i (2) no canvien valors a variables externes, ni continguts de fitxers o de bases de dades, etc. (no tenen efectes secundaris)."
   ]
  },
  {
   "cell_type": "markdown",
   "metadata": {
    "heading_collapsed": true,
    "hidden": true
   },
   "source": [
    "##### Exemple:\n",
    "Exemple de funció no pura. Pot retornar valors diferens a mesura que el temps passa. Depèn del valor que prengui la variable externa ```today```:"
   ]
  },
  {
   "cell_type": "code",
   "execution_count": null,
   "metadata": {
    "ExecuteTime": {
     "end_time": "2021-01-09T22:48+0000",
     "start_time": "2021-01-09T22:46:44.020Z"
    },
    "hidden": true
   },
   "outputs": [],
   "source": [
    "//getAge() is a non pure function\n",
    "\n",
    "import java.time.LocalDate; // import the LocalDate class\n",
    "import java.time.Period; // import the Period class\n",
    "\n",
    "LocalDate today = LocalDate.now(); // Create a date object\n",
    "\n",
    "int getAge(LocalDate birthDate) {\n",
    "    Period p = Period.between(birthDate, today);\n",
    "    return p.getYears();\n",
    "}\n",
    "\n",
    "LocalDate birthday = LocalDate.of(1978, 10, 17);\n",
    "int age = getAge(birthday);\n",
    "System.out.println(\"I am \" + age + \" years old\");"
   ]
  },
  {
   "cell_type": "markdown",
   "metadata": {
    "hidden": true
   },
   "source": [
    "##### Exemple:\n",
    "Exemples de funcions pures. Sempre retornen el mateix si els valors d'entrada (passats com a paràmetre) són els mateixos:"
   ]
  },
  {
   "cell_type": "code",
   "execution_count": null,
   "metadata": {
    "ExecuteTime": {
     "end_time": "2021-01-09T22:48+0000",
     "start_time": "2021-01-09T22:46:44.037Z"
    },
    "hidden": true
   },
   "outputs": [],
   "source": [
    "//Computes the factorial number for a given non-negative integer number\n",
    "int factorial(int n){\n",
    "    if(n == 0) return 1;\n",
    "    return n * factorial(n - 1);\n",
    "}\n",
    "\n",
    "factorial(6); //for a given argument, the result is always the same"
   ]
  },
  {
   "cell_type": "code",
   "execution_count": null,
   "metadata": {
    "ExecuteTime": {
     "end_time": "2021-01-09T22:48+0000",
     "start_time": "2021-01-09T22:46:44.049Z"
    },
    "hidden": true
   },
   "outputs": [],
   "source": [
    "//The length() method of a String is a pure function\n",
    "//as it return always the same result given a string\n",
    "\n",
    "\"hello\".length();"
   ]
  },
  {
   "cell_type": "code",
   "execution_count": null,
   "metadata": {
    "ExecuteTime": {
     "end_time": "2021-01-09T22:48+0000",
     "start_time": "2021-01-09T22:46:44.060Z"
    },
    "hidden": true
   },
   "outputs": [],
   "source": [
    "//Be care, as the same result can be returned for\n",
    "//other given strings, for example:\n",
    "\n",
    "\"world\".length();"
   ]
  },
  {
   "cell_type": "markdown",
   "metadata": {
    "hidden": true
   },
   "source": [
    "Dos aspectes a tenir en compte en la definició de funció pura:\n",
    "\n",
    "1. En aquest darrer exemple de funció pura, el del mètode ```length()```, el valor sobre el qual es calcula la longitud del _String_ no es passa com a argument, sino que s'aplica sobre el mateix objecte de tipus _String_ des del qual es crida el mètode. Això és irrellevant quant a la definició de funció pura. **És a dir, el valor d'entrada de la funció es pot passar com a argument o bé es pot \"donar\" a la funció essent l'objecte des del qual es crida el mètode**. En ambdós casos parlem de _valor d'entrada_ de la funció.\n",
    "\n",
    "2. En una funció pura, **dos o més valors d'entrada diferents poden retornar el mateix valor**. No cal confondre això amb la definició de funció pura, que diu que donat un valor d'entrada, sempre obtindrem el mateix valor de sortida (o de retorn). Això es pot veure gràficament al següent diagrama, on ``X`` representa el conjunt dels valors d'entrada d'una funció, i ``Y`` el conjunt dels valors de sortida (o de retorn):\n",
    "\n",
    "\n",
    "![Pure functions](https://drive.google.com/uc?export=view&id=1jp8i87z0Ka_sWDH8rigdqm52bm62if9B)\n",
    "\n"
   ]
  },
  {
   "cell_type": "markdown",
   "metadata": {
    "ExecuteTime": {
     "end_time": "2021-01-09T22:41+0000",
     "start_time": "2021-01-09T22:39:33.450Z"
    },
    "hidden": true
   },
   "source": [
    "### Immutabilitat \n",
    "<a id=\"immutability\"></a>\n"
   ]
  },
  {
   "cell_type": "markdown",
   "metadata": {
    "hidden": true
   },
   "source": [
    "En programació funcional la **immutabilitat** és una característica **molt important**. Ens permet **garantir** que els resultats de les operacions que es duen a terme per les funcions, seran resultats **coherents** i **vàlids**. \n",
    "\n",
    "La immutabilitat permet garantir la seguretat en l'execució concurrent multifil (_thread-safe programming_). I això és molt important tenint en compte que la programació funcional s'aplica principalment en àmbits de computació multifil, computació paral·lela, computació distribuida i entorns de Big Data. \n",
    "\n",
    "* En programació imperativa, un nom de variable es pot associar a diferents valors.\n",
    "\n",
    "* En programació funcional, **un nom sempre està associat a un únic mateix valor durant tot el programa**.\n",
    "\n",
    "En aquest darrer cas (en programació funcional) deixem d'anomenar _variables_ els noms que guarden valors, per a passar a anomenar-los _**constants**_.\n",
    "\n",
    "**Però que és exactament la immutabilitat?**\n",
    "\n",
    "Quan no és possible canviar l'estat d'un objecte, diem que aquest objecte és **immutable**. Recordem que l'estat d'un objecte ve donat pels valors que tenen les seves propietats (variables d'àmbit de classe). \n",
    "* En Java, la immutabilitat d'una propietat s'estableix amb la paraula clau ``final``. \n",
    "\n",
    "* Perquè un objecte sigui immutable, ho han de ser totes les seves propietats.\n",
    "\n",
    "_Nota_: la paraula clau ``final``, quan s'aplica a una classe té un significat diferent: la classe no pot tenir fills (no se'n pot crear una classe derivada)."
   ]
  },
  {
   "cell_type": "markdown",
   "metadata": {
    "heading_collapsed": true,
    "hidden": true
   },
   "source": [
    "##### Exemple:\n",
    "\n",
    "En el següent exemple, definim una classe ``Person`` amb dues propietats (``name`` i ``birthDate``). En motiu que el nom i la data de neixement d'una persona mai canvien, declarem aquestes dues propietats com ``final`` i els assignem un valor a través del constructor quan es crea l'objecte. Un cop creat l'objecte, no serà possible canviar els valors d'aquestes propietats, per tant diem que l'estat de l'objecte no es pot modificar, és a dir, l'objecte és **immutable**.\n"
   ]
  },
  {
   "cell_type": "code",
   "execution_count": null,
   "metadata": {
    "ExecuteTime": {
     "end_time": "2021-01-10T11:24+0000",
     "start_time": "2021-01-10T11:22:55.786Z"
    },
    "hidden": true
   },
   "outputs": [],
   "source": [
    "import java.time.LocalDate;\n",
    "\n",
    "class Person {\n",
    "    private final String name;\n",
    "    private final LocalDate birthDate;\n",
    "    Person(String name, LocalDate birthDate) {\n",
    "        this.name = name;\n",
    "        this.birthDate = birthDate;\n",
    "    }\n",
    "    //...\n",
    "}\n",
    "\n",
    "Person p = new Person(\"Joseph\", LocalDate.of(1978, 10, 17));"
   ]
  },
  {
   "cell_type": "markdown",
   "metadata": {
    "hidden": true
   },
   "source": [
    "Si en l'anterior classe ``Person`` hi afegim un _setter_ per al nom, en **temps de compilació** ja ens retornarà un error, ja que el compilador detectarà que s'està intentant fer una assignació a una propietat ``final`` (que prèviament ja té assignat un valor a través del constructor) i com que això no és possible (canviar el valor a una propietat ``final``), no permetrà fer la compilació:\n",
    "\n",
    "```\n",
    " CompilationException:  \n",
    "|           this.name = name;\n",
    "cannot assign a value to final variable name\n",
    "```"
   ]
  },
  {
   "cell_type": "code",
   "execution_count": null,
   "metadata": {
    "ExecuteTime": {
     "end_time": "2021-01-10T11:24+0000",
     "start_time": "2021-01-10T11:22:57.033Z"
    },
    "hidden": true
   },
   "outputs": [],
   "source": [
    "import java.time.LocalDate;\n",
    "\n",
    "class Person {\n",
    "    private final String name;\n",
    "    private final LocalDate birthDate;\n",
    "    Person(String name, LocalDate birthDate) {\n",
    "        this.name = name;\n",
    "        this.birthDate = birthDate;\n",
    "    }\n",
    "    public void setName(String name) {\n",
    "        this.name = name;\n",
    "    }\n",
    "    //...\n",
    "}"
   ]
  },
  {
   "cell_type": "markdown",
   "metadata": {
    "hidden": true
   },
   "source": [
    "##### Exemple:\n",
    "\n",
    "En Java, tots els objectes de tipus ``String`` són **immutables**. \n",
    "\n",
    "En el següent exemple, la variable ``salutation`` inicialment referencia un ``String`` en memòria, que és _\"Hello there!\"_, i després referencia un altre ``String`` (un **objecte diferent** de l'anterior -ubicat en una posició de memòria diferent), que és _\"Hello world!\"_. \n",
    "\n",
    "Els ``String`` són **immutables**, que vol dir que en cap cas el que passa amb el següent codi és que el primer String es veu modificat passant de _\"Hello there!\"_ a _\"Hello world!\"_ (es crea un nou objecte, no es modifica l'objecte existent inicialment)."
   ]
  },
  {
   "cell_type": "code",
   "execution_count": null,
   "metadata": {
    "ExecuteTime": {
     "end_time": "2021-01-10T11:34+0000",
     "start_time": "2021-01-10T11:33:14.533Z"
    },
    "hidden": true
   },
   "outputs": [],
   "source": [
    "String salutation = new String(\"Hello there!\"); //This is an object\n",
    "\n",
    "System.out.println(salutation);\n",
    "\n",
    "salutation = salutation.replaceAll(\"there\", \"world\"); //This creates a new object\n",
    "\n",
    "System.out.println(salutation);"
   ]
  },
  {
   "cell_type": "markdown",
   "metadata": {
    "heading_collapsed": true
   },
   "source": [
    "## Elements d'un Stream\n",
    "<a id=\"agr\"></a>"
   ]
  },
  {
   "cell_type": "markdown",
   "metadata": {
    "hidden": true
   },
   "source": [
    "### Funcions agregades "
   ]
  },
  {
   "cell_type": "markdown",
   "metadata": {
    "hidden": true
   },
   "source": [
    "Una **funció agregada** és una funció que rep com a entrada un conjunt de valors, i que dóna lloc a un valor únic com a resultat. Aquest valor expressa la importància o rellevància de les dades a partir de les quals es calcula. \n",
    "\n",
    "Les funcions agregades s'utilitzen sovint en bases de dades, fulls de càlcul i molts altres paquets de programari de manipulació de dades que ara són habituals als llocs de treball.\n",
    "\n",
    "Un exemple senzill n'és la funció que calcula la mitjana aritmètica (_average_) d'un conjunt de valors numèrics, com pot ser el conjunt de qualificacions obtingudes pels alumnes d'un curs.\n",
    "\n",
    "> Les funcions agregades retornen un número únic que representa un conjunt de dades. \n",
    "\n",
    "> Les dades que conformen el conjunt de dades d'entrada d'una funció agregada poden ser, al seu torn, dades que s'hagin obtingut individualment com a resultat d'una altra o altres funcions agregades."
   ]
  },
  {
   "cell_type": "markdown",
   "metadata": {
    "heading_collapsed": true,
    "hidden": true
   },
   "source": [
    "##### Exemple:\n",
    "\n",
    "Calculem la qualificació mitjana de les qualificacions obtingudes pels alumnes d'una classe en l'assignatura _1- Introducció a la Programació_. La funció _average_ és una funció agregada:"
   ]
  },
  {
   "cell_type": "code",
   "execution_count": null,
   "metadata": {
    "ExecuteTime": {
     "end_time": "2021-01-10T13:10+0000",
     "start_time": "2021-01-10T13:08:26.412Z"
    },
    "hidden": true
   },
   "outputs": [],
   "source": [
    "double average(double[] quals) {\n",
    "    double sum = 0.0;\n",
    "    for(double q : quals){\n",
    "        sum += q;\n",
    "    }\n",
    "    return sum / quals.length;\n",
    "}\n",
    "\n",
    "double[] qualifications1 = {5.5, 4.6, 7.1, 6.8, 9.3, 6.5, 5.7, 8.4};\n",
    "\n",
    "System.out.println(\"Average qualification for subject 1: \" + average(qualifications1));"
   ]
  },
  {
   "cell_type": "markdown",
   "metadata": {
    "hidden": true
   },
   "source": [
    "Ara imaginem que, de la mateixa manera, obtenim la qualificació mitjana de la classe per a les assignatures 2, 3, 4 i 5. Així, sobre aquests resultats (obtinguts individualment per una funció agregada) ara volem calcular la mitjana de la classe en el total de les assignatures de la 1 a la 5:"
   ]
  },
  {
   "cell_type": "code",
   "execution_count": null,
   "metadata": {
    "ExecuteTime": {
     "end_time": "2021-01-10T13:10+0000",
     "start_time": "2021-01-10T13:08:32.556Z"
    },
    "hidden": true
   },
   "outputs": [],
   "source": [
    "double[] qualsPerSubject = {6.7375, 5.7703, 7.2784, 6.8812, 5.9347 };\n",
    "\n",
    "System.out.println(\"Average qualification for subjects 1 to 5: \" + average(qualsPerSubject));"
   ]
  },
  {
   "cell_type": "markdown",
   "metadata": {
    "hidden": true
   },
   "source": [
    "### Streams i funcions agregades"
   ]
  },
  {
   "cell_type": "markdown",
   "metadata": {
    "hidden": true
   },
   "source": [
    " Fixeu-vos que en l'anterior exemple hem usat _programació imperativa_. Amb programació funcional i els Streams de Java, aquest codi **es simplifica molt**, gràcies a que:\n",
    "\n",
    "> **Els Streams de Java ens proporcionen una abstracció per a especificar i executar funcions agregades de forma simple**.\n",
    "\n",
    "Aquesta abstracció fa que amb els Streams proporcionin directament la manera més òptima de fer els càlculs agregats sobre els conjunts de dades d'entrada:\n",
    "\n",
    "> La manera més òptima de fer els càlculs de funcions agregades dependrà de diversos factors com la mida del conjunt de dades i la disponibilitat de cpu's.\n",
    "\n",
    "El programador no caldrà que determini l'algorisme a aplicar (programació imperativa), només dir quina funció agregada voldrà usar (programació funcional)."
   ]
  },
  {
   "cell_type": "markdown",
   "metadata": {
    "heading_collapsed": true,
    "hidden": true
   },
   "source": [
    "##### Exemple:\n",
    "\n",
    "Vegem com podem usar Streams per al càlcul de la nota mitjana de la classe:"
   ]
  },
  {
   "cell_type": "code",
   "execution_count": null,
   "metadata": {
    "ExecuteTime": {
     "end_time": "2021-01-10T13:39+0000",
     "start_time": "2021-01-10T13:37:41.510Z"
    },
    "hidden": true
   },
   "outputs": [],
   "source": [
    "import java.util.stream.Stream;\n",
    "\n",
    "double[] qualifications1 = {5.5, 4.6, 7.1, 6.8, 9.3, 6.5, 5.7, 8.4};\n",
    "\n",
    "double avg = Arrays.stream(qualifications1).average().orElse(Double.NaN);\n",
    "\n",
    "System.out.println(\"Average qualification for subject 1: \" + avg);\n",
    "\n"
   ]
  },
  {
   "cell_type": "markdown",
   "metadata": {
    "hidden": true
   },
   "source": [
    "Breu explicació d'aquest exemple:\n",
    "\n",
    "* Amb el mètode estàtic ``stream()`` de la classe ``Arrays`` convertim un array a stream.\n",
    "\n",
    "* El mètode ``average()`` de l'objecte Stream intenta calcular la mitjana aritmètica de tots els elements que li arriben per l'stream.\n",
    "\n",
    "* El resultat (que retorna) de la funció agregada ``average()`` és de tipus **``Optional``**, que pot contenir el valor ``double`` resultat de l'operació, o bé **pot estar buit** (si per algun motiu no s'ha pogut calcular la mitjana). \n",
    "\n",
    "* Amb el mètode ``orElse()`` de la classe ``Optional`` estem indicant **què** volem que retorni si el resultat de l'operació és buit o null. En aquest cas indiquem que retorni ``Double.NaN``, que és un valor de tipus ``Double`` que s'usa per a indicar un resultat invàlid ( NaN = Not a Number ).\n",
    "\n",
    "La classe ``Optional`` apareix a l'API de Java a la versió 8 conjuntament amb els Streams, i la seva principal motivació és la d'evitar les excepcions de tipus ``NullPointerExeception`` en l'ús dels Streams. La classe ``Optional`` s'explica amb més detall a l'apartat [La classe Optional](#optional)."
   ]
  },
  {
   "cell_type": "markdown",
   "metadata": {
    "heading_collapsed": true,
    "hidden": true
   },
   "source": [
    "### Stream pipeline"
   ]
  },
  {
   "cell_type": "markdown",
   "metadata": {
    "hidden": true
   },
   "source": [
    "Un Stream es defineix, de manera simple, com un **fluxe de dades**. \n",
    "\n",
    "El fluxe de dades pot ser **finit** o **infinit**. Depèn de la **font de les dades**: si la font emet dades de forma contínua a través del temps, diem que l'stream és infinit; si la font de dades conté una quantitat finita de dades, diem que l'stream és finit. A l'apartat [_Fonts d'un Stream_](#sources) hi podem veure exemples.\n",
    "\n",
    "Aquestes dades flueixen a través d'una tuberia imaginària, que anomenem **_pipeline_**, **_Stream pipeline_** o simplement **_Stream_**.\n",
    "\n",
    "En aquesta tuberia hi podem incrustar diferents operacions, formant una cadena d'operacions. Cada operació farà una **transformació** o una **acció** sobre les dades que flueixen.\n",
    "\n",
    "Les transformacions reben dades des de la tuberia, les transformen, i les envien de nou (transformades) cap a la tuberia.\n",
    "\n",
    "> Les transformacions són operacions intermitges, que s'executen sobre un Stream (dades d'entrada), i retornen un Stream (dades de sortida, transformades). N'hi poden haver tantes com es vulgui.\n",
    "\n",
    "> Les accions són operacions finals, que s'executen sobre un Stream (dades d'entrada), però retornen un resultat que és un valor únic (veieu l'apartat [Funcions agregades](#agr)) o bé fan una modificació de l'entorn (modifiquen el contingut d'un fitxer, d'una base de dades, imprimeixen per pantalla, etc.). **Només n'hi pot haver una**, d'acció, i ha de ser la última."
   ]
  },
  {
   "cell_type": "markdown",
   "metadata": {
    "hidden": true
   },
   "source": [
    "Una **Stream pipeline** (cadena d'Stream) consisteix dels següents elements:\n",
    "\n",
    "* Una font (source).\n",
    "\n",
    "* Cap, una o diverses operacions intermitges (també anomenades _transformacions_).\n",
    "\n",
    "* Una operació terminal (també anomenada _acció_). Produeix un resultat.\n",
    "\n",
    "\n",
    "\n",
    "![Stream pipeline](https://drive.google.com/uc?export=view&id=1FWSZM2o5opAb2OQJlQ1Roe6KCkhI2eDw)\n",
    "\n",
    "En els següents apartats veurem les característiques principals d'una pipeline d'streams, quines són les principals fonts, i les operacions intermitges i finals més comunes.\n"
   ]
  },
  {
   "cell_type": "markdown",
   "metadata": {
    "hidden": true
   },
   "source": [
    "### Fonts d'un Stream (_sources_)"
   ]
  },
  {
   "cell_type": "markdown",
   "metadata": {
    "hidden": true
   },
   "source": [
    "En aquest apartat parlarem de les principals fonts de dades dels streams. És a dir, d'on provenen les dades que es van injectant al _**pipeline**_. El següent gràfic representa una font de dades, que va **emetent** dades contínuament en el temps. Aquestes dades s'injectaran al _pipeline_ (stream):\n",
    "\n",
    "![Stream source](https://drive.google.com/uc?export=view&id=1y8NEQQOsI5E1coQjyLFAXaArbOKQMSaB)"
   ]
  },
  {
   "cell_type": "markdown",
   "metadata": {
    "hidden": true
   },
   "source": [
    "A nivell d'API, un **Stream és una interfície**:\n",
    "\n",
    "``Stream``, a l'API de Java (de la versió 8 en endavant) és una **interfície**. Està localitzada al paquet:\n",
    "\n",
    "```java\n",
    "import java.util.stream.Stream;\n",
    "```\n",
    "\n",
    "En l'API de Java 8, d'acord amb [Oracle](https://www.youtube.com/watch?v=pbtFL7T_HLw), hi podem trobar fins 71 mètodes diferents repartits en 15 classes, que retornen un objecte de tipus ``Stream``.\n",
    "\n",
    "Aquests mètodes es poden usar per a crear objectes de tipus ``Stream`` a partir de les següents fonts de dades, que veiem a continuació:"
   ]
  },
  {
   "cell_type": "markdown",
   "metadata": {
    "heading_collapsed": true,
    "hidden": true
   },
   "source": [
    "#### Collections"
   ]
  },
  {
   "cell_type": "markdown",
   "metadata": {
    "hidden": true
   },
   "source": [
    "La interfície ``Collection``, on hi podem trobar els següents mètodes:\n",
    "\n",
    "* ``stream()`` que genera un stream seqüencial d'elements a partir dels elements de la collecció.\n",
    "\n",
    "* ``parallelStream()`` que genera un stream paral·lel d'elements (diverses tuberies paral·leles), per a optimitzar el processament de dades quan es diposa de recursos per fer computació paral·lela (com per exemple execució multifil, múltiples CPU's o computació distribuida en clúster).\n",
    "\n",
    "Totes les _collections_ (llistes, conjunts, cues...) són fonts de dades finites des de les quals es pot generar un Stream."
   ]
  },
  {
   "cell_type": "markdown",
   "metadata": {
    "heading_collapsed": true,
    "hidden": true
   },
   "source": [
    "##### Exemple:"
   ]
  },
  {
   "cell_type": "code",
   "execution_count": null,
   "metadata": {
    "ExecuteTime": {
     "end_time": "2021-01-11T11:24+0000",
     "start_time": "2021-01-11T11:22:37.347Z"
    },
    "hidden": true
   },
   "outputs": [],
   "source": [
    "import java.util.stream.Stream;\n",
    "import java.util.List;\n",
    "\n",
    "Integer[] temperatures = {10, 12, 16, 9, 10, 7, 11, 10, 16, 15, 14, 15, 13, 12};\n",
    "List<Integer> tempsList = Arrays.asList(temperatures);\n",
    "\n",
    "Stream tempsStream = tempsList.stream(); //gets a finite Stream from a List"
   ]
  },
  {
   "cell_type": "markdown",
   "metadata": {
    "heading_collapsed": true,
    "hidden": true
   },
   "source": [
    "#### Classe ``Arrays``"
   ]
  },
  {
   "cell_type": "markdown",
   "metadata": {
    "hidden": true
   },
   "source": [
    "Un array és una seqüència d'elements, per tant té sentit que un array sigui una font de dades per a un Stream.\n",
    "\n",
    "Per a obtenir un Stream des d'un array, usarem la classe ``Arrays`` i el seu mètode estàtic ``stream()``, que retorna un stream seqüencial de dades."
   ]
  },
  {
   "cell_type": "markdown",
   "metadata": {
    "heading_collapsed": true,
    "hidden": true
   },
   "source": [
    "##### Exemple:"
   ]
  },
  {
   "cell_type": "code",
   "execution_count": null,
   "metadata": {
    "ExecuteTime": {
     "end_time": "2021-01-11T11:28+0000",
     "start_time": "2021-01-11T11:26:44.676Z"
    },
    "hidden": true
   },
   "outputs": [],
   "source": [
    "import java.util.stream.Stream;\n",
    "\n",
    "Integer[] temperatures = {10, 12, 16, 9, 10, 7, 11, 10, 16, 15, 14, 15, 13, 12};\n",
    "\n",
    "Stream tempsStream = Arrays.stream(temperatures); //gets a finite Stream from an array"
   ]
  },
  {
   "cell_type": "markdown",
   "metadata": {
    "heading_collapsed": true,
    "hidden": true
   },
   "source": [
    "#### Classe ``Files``"
   ]
  },
  {
   "cell_type": "markdown",
   "metadata": {
    "hidden": true
   },
   "source": [
    "Els fitxers contenen dades, per tant té sentit que un fitxer pugui ser una font de dades per a un Stream.\n",
    "\n",
    "La classe ``Files`` té diversos mètodes que retornen un Stream, però de moment mencionarem només el següent mètode, que retorna un stream d'elements on cada element consisteix en una línia de text del fitxer (cada element és una dada de tipus ``String``):\n",
    "\n",
    "[``public static Stream<String> lines​(Path path) throws IOException``](https://docs.oracle.com/en/java/javase/11/docs/api/java.base/java/nio/file/Files.html#lines(java.nio.file.Path))"
   ]
  },
  {
   "cell_type": "markdown",
   "metadata": {
    "hidden": true
   },
   "source": [
    "##### Exemple:"
   ]
  },
  {
   "cell_type": "code",
   "execution_count": null,
   "metadata": {
    "ExecuteTime": {
     "end_time": "2021-01-11T11:53+0000",
     "start_time": "2021-01-11T11:52:13.014Z"
    },
    "hidden": true
   },
   "outputs": [],
   "source": [
    "import java.util.stream.Stream;\n",
    "import java.io.IOException;\n",
    "import java.nio.file.Files;\n",
    "import java.nio.file.Paths;\n",
    "\n",
    "Stream linesStream = Files.lines(Paths.get(\"devices.csv\")); //creates a Stream from a file"
   ]
  },
  {
   "cell_type": "markdown",
   "metadata": {
    "heading_collapsed": true,
    "hidden": true
   },
   "source": [
    "#### Números aleatoris (Random)"
   ]
  },
  {
   "cell_type": "markdown",
   "metadata": {
    "hidden": true
   },
   "source": [
    "Les classes de l'API de Java que permeten generar números aleatoris, també poden ésser font de dades per a un stream.\n",
    "\n",
    "Aquestes classes són ``Random``, ``ThreadLocalRandom`` i ``SplittableRandom``.\n",
    "\n",
    "Poden crear streams finits o **infinits** (van generant números aleatoris constantment)."
   ]
  },
  {
   "cell_type": "markdown",
   "metadata": {
    "heading_collapsed": true,
    "hidden": true
   },
   "source": [
    "##### Exemple:"
   ]
  },
  {
   "cell_type": "code",
   "execution_count": null,
   "metadata": {
    "ExecuteTime": {
     "end_time": "2021-01-11T12:24+0000",
     "start_time": "2021-01-11T12:23:09.178Z"
    },
    "hidden": true
   },
   "outputs": [],
   "source": [
    "import java.util.stream.IntStream; //Stream of integers\n",
    "import java.util.stream.DoubleStream; //Stream of doubles\n",
    "import java.util.stream.LongStream; //Stream of long integers\n",
    "\n",
    "//Infinite stream of random integers:\n",
    "IntStream infStream = new Random().ints();\n",
    "\n",
    "//Finite stream of 20 random integers:\n",
    "IntStream finiteStream = new Random().ints(20);\n",
    "\n",
    "//Infinite stream of random numbers between 0 and 20\n",
    "IntStream infRangStream = new Random().ints(0,21); //0 is included, 21 is not included\n",
    "\n",
    "//Finite stream of 10 random integers. Numbers are between 0 and 20\n",
    "IntStream finiteRangStream = new Random().ints(10, 0, 21);\n",
    "\n",
    "//Finite stream of 10 random doubles. Numbers are between 0 and 20\n",
    "DoubleStream finiteDoublesRangStream = new Random().doubles(10, 0, 21);\n",
    "\n",
    "//Finite stream of 10 random long integers. Numbers are between 0 and 20\n",
    "LongStream finiteLongsRangStream = new Random().longs(10, 0, 21);"
   ]
  },
  {
   "cell_type": "markdown",
   "metadata": {
    "heading_collapsed": true,
    "hidden": true
   },
   "source": [
    "#### Altres fonts de dades"
   ]
  },
  {
   "cell_type": "markdown",
   "metadata": {
    "hidden": true
   },
   "source": [
    "Hi ha moltes altres fonts de dades, menys usuals, de les quals mencionarem les següents:\n",
    "\n",
    "* mètode ``lines()`` de la classe ``BufferedReader``: retorna un stream de strings que són les línies llegides del input (teclat, per exemple).\n",
    "\n",
    "* Mètodes estàtics com ara:\n",
    "\n",
    "    * ``concat(stream1, stream2)``: concatena dos streams en un de sol.\n",
    "    \n",
    "    * ``empty()``: retorna un stream buit (sense dades).\n",
    "    \n",
    "    * ``of(T... values)``: genera un stream a partir dels valors que se li passen en el _varargs_.\n",
    "    \n",
    "    * ``range(int, int)``: genera un stream seqüencial amb els números enters pertanyents al rang especificat.\n"
   ]
  },
  {
   "cell_type": "markdown",
   "metadata": {
    "heading_collapsed": true,
    "hidden": true
   },
   "source": [
    "##### Exemple:"
   ]
  },
  {
   "cell_type": "markdown",
   "metadata": {
    "hidden": true
   },
   "source": [
    "En el següent exemple veiem com podem entrar text pel teclat, usant la classe ``BufferedReader`` i programació imperativa:"
   ]
  },
  {
   "cell_type": "code",
   "execution_count": null,
   "metadata": {
    "ExecuteTime": {
     "end_time": "2021-01-11T12:57+0000",
     "start_time": "2021-01-11T12:56:11.283Z"
    },
    "hidden": true
   },
   "outputs": [],
   "source": [
    "void input() throws java.io.IOException {\n",
    "    // create a BufferedReader using System.in\n",
    "    BufferedReader br = new BufferedReader(new InputStreamReader(System.in));\n",
    "    String str;\n",
    "    System.out.print(\"Enter lines of text\");\n",
    "    System.out.println(\" (Enter 'stop' to quit):\");\n",
    "    do {\n",
    "        str = br.readLine();\n",
    "    } while(!str.equals(\"stop\"));\n",
    "}\n",
    "input();"
   ]
  },
  {
   "cell_type": "markdown",
   "metadata": {
    "hidden": true
   },
   "source": [
    "En el següent exemple veiem com podem entrar text pel teclat creant un Stream des de la classe ``BufferedReader`` amb programació funcional:"
   ]
  },
  {
   "cell_type": "code",
   "execution_count": null,
   "metadata": {
    "ExecuteTime": {
     "end_time": "2021-01-11T13:03+0000",
     "start_time": "2021-01-11T13:01:50.854Z"
    },
    "hidden": true
   },
   "outputs": [],
   "source": [
    "import java.util.stream.Stream;\n",
    "\n",
    "int limit = 2; //number of lines to be processed by the stream\n",
    "\n",
    "//BufferedReader from the standard input (keyboard by default)\n",
    "BufferedReader br = new BufferedReader(new InputStreamReader(System.in));\n",
    "\n",
    "System.out.println(\"Enter lines of text up until \" + limit + \" times:\");\n",
    "\n",
    "//Creation of a finite stream (without method limit, it'd be infinite)\n",
    "Stream<String> linesStream = br.lines().limit(limit); \n",
    "\n",
    "//for each element of the Stream, to upper case is applied\n",
    "linesStream.forEach(s -> System.out.println(s.toUpperCase()));"
   ]
  },
  {
   "cell_type": "markdown",
   "metadata": {
    "heading_collapsed": true,
    "hidden": true
   },
   "source": [
    "##### Exemple:"
   ]
  },
  {
   "cell_type": "markdown",
   "metadata": {
    "hidden": true
   },
   "source": [
    "Exemple d'ús dels mètodes ``concat()`` i ``of()`` de la interfície ``Stream``:"
   ]
  },
  {
   "cell_type": "code",
   "execution_count": null,
   "metadata": {
    "ExecuteTime": {
     "end_time": "2021-01-11T14:21+0000",
     "start_time": "2021-01-11T14:19:22.661Z"
    },
    "hidden": true
   },
   "outputs": [],
   "source": [
    "//.concat and .of methods example\n",
    "\n",
    "import java.util.stream.Stream;\n",
    "\n",
    "Stream<Integer> stream1 = Stream.of(1, 3, 5);\n",
    "Stream<Integer> stream2 = Stream.of(2, 4, 6);\n",
    "\n",
    "Stream<Integer> resultingStream = Stream.concat(stream1, stream2);\n",
    "\n",
    "resultingStream.forEach(System.out::print);"
   ]
  },
  {
   "cell_type": "markdown",
   "metadata": {
    "hidden": true
   },
   "source": [
    "### Operacions intermitges"
   ]
  },
  {
   "cell_type": "markdown",
   "metadata": {
    "hidden": true
   },
   "source": [
    "Les operacions intermitges (també anomenades transformacions) més comunes són:\n",
    "\n",
    "* ``filter()``\n",
    "\n",
    "* ``map()`` \n",
    "\n",
    "També veurem altres operacions intermitges que es seran útils, com ara ``skip()``, ``limit()``, ``distinct()`` i d'altres.\n",
    "\n",
    "> Cal tenir clar que **les operacions intermitges NO modifiquen l'stream**, sino que se'n crea un de nou: **un nou stream** és retornat per cada operació intermitja. Això és lògic ja que en programació funcional, els objectes han de ser **immutables** (no es poden modificar). Per tant, **els streams són immutables**.\n"
   ]
  },
  {
   "cell_type": "markdown",
   "metadata": {
    "heading_collapsed": true,
    "hidden": true
   },
   "source": [
    "#### ``map()``"
   ]
  },
  {
   "cell_type": "markdown",
   "metadata": {
    "hidden": true
   },
   "source": [
    "[``map()``](https://docs.oracle.com/javase/8/docs/api/java/util/stream/Stream.html#map-java.util.function.Function-) és una operació intermitja que, per a cada element de l'stream que li arriba, li aplica una transformació retornant un element transformat. Es diu _map_ perquè mapeja cada element que entra amb un element que surt.\n",
    "\n",
    "Per tant, com a paràmetre, el mètode ``map()`` ha de rebre una funció que digui com es farà el mapatge o transformació. Ha de ser una funció que rebi un element i retorni l'element transformat.\n",
    "\n",
    "En l'API de Java una funció que se li pugui passar a ``map()`` com a argument, ve representada per la **interfície funcional** [``Function``](https://docs.oracle.com/javase/8/docs/api/java/util/function/Function.html). La signatura completa de ``map()`` és:\n",
    "\n",
    "[<R> Stream<R> map(Function<? super T,? extends R> mapper)](https://docs.oracle.com/javase/8/docs/api/java/util/stream/Stream.html#map-java.util.function.Function-)\n",
    "\n",
    "El mètode abstracte de ``Function`` és [``apply(T t)``](https://docs.oracle.com/javase/8/docs/api/java/util/function/Function.html#apply-T-) que retorna un element de tipus ``R`` per a cada element de tipus ``T`` que rep."
   ]
  },
  {
   "cell_type": "markdown",
   "metadata": {
    "hidden": true
   },
   "source": [
    "##### Exemple:"
   ]
  },
  {
   "cell_type": "code",
   "execution_count": null,
   "metadata": {
    "ExecuteTime": {
     "end_time": "2021-01-13T11:58+0000",
     "start_time": "2021-01-13T11:56:41.784Z"
    },
    "hidden": true
   },
   "outputs": [],
   "source": [
    "import java.util.stream.Stream;\n",
    "\n",
    "List<Double> nums = Arrays.asList(new Double[]{3.4,2.5,6.6,7.3,-3.2});\n",
    "\n",
    "Stream<Double> numsStream = nums.stream(); //Crea un stream de números de tipus double\n",
    "\n",
    "\n",
    "//Mapeja cada element d'entrada amb el seu quadrat.\n",
    "//Genera un nou stream de tipus double amb els quadrats de cada element.\n",
    "Stream<Double> squareNumsStream = numsStream.map(x -> x * x); "
   ]
  },
  {
   "cell_type": "markdown",
   "metadata": {
    "heading_collapsed": true,
    "hidden": true
   },
   "source": [
    "##### Exemple:"
   ]
  },
  {
   "cell_type": "markdown",
   "metadata": {
    "hidden": true
   },
   "source": [
    "Imaginem que cada element de l'stream d'entrada és un element de tipus ``Shape`` de forma rectangular plana (horizontal), i volem canviar-li la forma a cada element per tal que passi a ser rectangular vertical. Per a aconseguir-ho ``Shape``disposa d'un mètode anomenat ``squash()``:\n",
    "\n",
    "```java\n",
    "import java.util.stream.Stream;\n",
    "\n",
    "List<Shape> shapes = new ArrayList<>();\n",
    "shapes.add(new Shape());\n",
    "//...\n",
    "shapes.add(new Shape());\n",
    "\n",
    "Stream<Shape> shapesStream = shapes.stream(); //Source is a Collection\n",
    "\n",
    "Stream<Shape> squashedShapesStream = shapesStream.map(s -> s.squash());\n",
    "```\n",
    "\n",
    "```java\n",
    ".map(s -> s.squash())\n",
    "```\n",
    "\n",
    "![Map squash()](https://drive.google.com/uc?export=view&id=1j9tab8DgKGl5x33ltdhPG-PEkBJJcCqt)"
   ]
  },
  {
   "cell_type": "markdown",
   "metadata": {
    "heading_collapsed": true,
    "hidden": true
   },
   "source": [
    "#### ``filter()``"
   ]
  },
  {
   "cell_type": "markdown",
   "metadata": {
    "hidden": true
   },
   "source": [
    "[``filter()``](https://docs.oracle.com/javase/8/docs/api/java/util/stream/Stream.html#filter-java.util.function.Predicate-) és una operació intermitja que, per a cada element de l'stream que li arriba, se li aplica una condició per a saber si es compleix o no, i retorna ``true``o ``false``. Es diu _filter_ perquè si la condició s'avalua a ``true`` l'element continua cap al següent stream, però si la condició s'avalua a ``false`` l'element **no** continua cap al següent stream (**no passa el filtre de la condició**). \n",
    "\n",
    "Per tant, el nou stream que crea aquest mètode ``filter()`` només contindrà els elements de l'stream d'entrada que hagin complert la condició.\n",
    "\n",
    "Així, com a paràmetre, el mètode ``filter()`` ha de rebre un **predicat** (funció que retorna un **booleà**). \n",
    "\n",
    "En l'API de Java una funció que se li pugui passar a ``filter()`` com a argument, ve representada per la **interfície funcional** [``Predicate``](https://docs.oracle.com/javase/8/docs/api/java/util/function/Predicate.html). La signatura completa de ``filter()`` és:\n",
    "\n",
    "[Stream<T> filter(Predicate<? super T> predicate)](https://docs.oracle.com/javase/8/docs/api/java/util/stream/Stream.html#filter-java.util.function.Predicate-)\n",
    "\n",
    "El mètode abstracte de ``Predicate`` és [``boolean test(T t)``](https://docs.oracle.com/javase/8/docs/api/java/util/function/Predicate.html#test-T-) que retorna un booleà (``true`` o ``false``) per a cada element de tipus ``T`` que rep."
   ]
  },
  {
   "cell_type": "markdown",
   "metadata": {
    "heading_collapsed": true,
    "hidden": true
   },
   "source": [
    "##### Exemple:"
   ]
  },
  {
   "cell_type": "markdown",
   "metadata": {
    "hidden": true
   },
   "source": [
    "Donat un número ``x`` el seu invers es defineix com ``1/x``. \n",
    "\n",
    "Tenim un stream de double i volem fer un ``map()`` per a trobar, de cada element, el seu invers. El problema que ens podem trobar és si a l'stream original hi ha el 0, doncs:\n",
    "\n",
    "```\n",
    "Si x = 0 llavors 1/x \"peta\" o retona infinit.\n",
    "```\n",
    "\n",
    "_Solució_:\n",
    "\n",
    "Abans d'aplicar el ``map()``, apliquem un ``filter()`` que filtri tots els elements iguals a 0. Obtindrem:"
   ]
  },
  {
   "cell_type": "code",
   "execution_count": null,
   "metadata": {
    "ExecuteTime": {
     "end_time": "2021-01-13T12:34+0000",
     "start_time": "2021-01-13T12:32:56.419Z"
    },
    "hidden": true
   },
   "outputs": [],
   "source": [
    "//Sense el filter()\n",
    "\n",
    "import java.util.stream.Stream;\n",
    "\n",
    "List<Double> nums = Arrays.asList(new Double[]{0.0,3.4,2.5,0.0,6.6,7.3,-3.2,0.0});\n",
    "\n",
    "Stream<Double> numsStream = nums.stream(); //Crea un stream de números de tipus double\n",
    "\n",
    "\n",
    "//Mapeja cada element d'entrada amb el seu quadrat.\n",
    "//Genera un nou stream de tipus double amb l'invers de cada element.\n",
    "Stream<Double> squareNumsStream = numsStream.map(x -> 1 / x); //\"Peta\" o infinit per a x = 0 \n",
    "\n",
    "squareNumsStream.forEach(System.out::println);"
   ]
  },
  {
   "cell_type": "code",
   "execution_count": null,
   "metadata": {
    "ExecuteTime": {
     "end_time": "2021-01-13T12:35+0000",
     "start_time": "2021-01-13T12:34:11.106Z"
    },
    "hidden": true
   },
   "outputs": [],
   "source": [
    "//Amb el filter()\n",
    "\n",
    "import java.util.stream.Stream;\n",
    "\n",
    "List<Double> nums = Arrays.asList(new Double[]{0.0,3.4,2.5,0.0,6.6,7.3,-3.2,0.0});\n",
    "\n",
    "Stream<Double> numsStream = nums.stream(); //Crea un stream de números de tipus double\n",
    "\n",
    "\n",
    "//Mapeja cada element d'entrada amb el seu quadrat.\n",
    "//Genera un nou stream de tipus double amb l'invers de cada element.\n",
    "//Filtrem primer els 0\n",
    "Stream<Double> squareNumsStream = numsStream.filter(x -> x != 0).map(x -> 1 / x); \n",
    "\n",
    "squareNumsStream.forEach(System.out::println);"
   ]
  },
  {
   "cell_type": "markdown",
   "metadata": {
    "heading_collapsed": true,
    "hidden": true
   },
   "source": [
    "##### Exemple:"
   ]
  },
  {
   "cell_type": "markdown",
   "metadata": {
    "hidden": true
   },
   "source": [
    "El nostre stream de figures rectangulars (de tipus ``Shape``) té elements de diferents colors. No volem els elements de color groc:\n",
    "\n",
    "```java\n",
    "import java.util.stream.Stream;\n",
    "\n",
    "List<Shape> shapes = new ArrayList<>();\n",
    "shapes.add(new Shape());\n",
    "//...\n",
    "shapes.add(new Shape());\n",
    "\n",
    "Stream<Shape> shapesStream = shapes.stream(); //Source is a Collection\n",
    "\n",
    "Stream<Shape> filteredByColorShapesStream = \n",
    "        shapesStream.filter(s -> s.getColor() != YELLOW);\n",
    "```\n",
    "\n",
    "```java\n",
    ".filter(s -> s.getColor() != YELLOW)\n",
    "```\n",
    "\n",
    "![Yellow filter()](https://drive.google.com/uc?export=view&id=1lCl94M9G94aV35MgX_M25-aRUzSS2FI-)"
   ]
  },
  {
   "cell_type": "markdown",
   "metadata": {
    "hidden": true
   },
   "source": [
    "#### Altres operacions intermitges"
   ]
  },
  {
   "cell_type": "markdown",
   "metadata": {
    "hidden": true
   },
   "source": [
    "``skip()``, ``limit()``, ``distinct()``, ``flatMap()`` ...\n",
    "\n",
    "```java\n",
    "//TODO\n",
    "```"
   ]
  },
  {
   "cell_type": "markdown",
   "metadata": {
    "hidden": true
   },
   "source": [
    "### Operacions terminals"
   ]
  },
  {
   "cell_type": "markdown",
   "metadata": {
    "hidden": true
   },
   "source": [
    "Les dades d'un stream són **consumides** per una operació terminal. És a dir, el fluxe de dades finalitza quan es processa (quan s'executa) una operació terminal.\n",
    "\n",
    "Una operació intermitja sempre retorna un nou stream. Una **operació terminal** o _**acció**_ **no** retorna un stream: \n",
    "\n",
    "Una **acció** (operació terminal) retorna:\n",
    "* un valor únic si aquesta acció és una [funció agregada](#agr), \n",
    "\n",
    "* una seqüència de valors si l'acció s'aplica a cada element de l'stream,\n",
    "\n",
    "* una seqüència de valors si l'acció és una funció agregada aplicada a subconjunts de dades de l'stream.\n",
    "\n",
    "En els casos d'obtenció de seqüències de valors, aquests elements **no formen un nou stream**. Amb la seqüència de valors es modifica l'entorn si és una acció que envia les dades a alguna sortida o emmagatzemament (fitxer, pantalla, base de dades...), o es poden guardar en memòria en, per exemple, una [``Collection``](https://docs.oracle.com/javase/8/docs/api/java/util/Collection.html).\n",
    "\n",
    "_Important_: Els **valors de retorn** de les operacions terminals estan sempre encapsulats en un objecte de tipus [``Optional``](https://docs.oracle.com/javase/8/docs/api/java/util/Optional.html).\n",
    "\n",
    "En els següents exemples veiem algunes de les operacions terminals més usuals:"
   ]
  },
  {
   "cell_type": "markdown",
   "metadata": {
    "heading_collapsed": true,
    "hidden": true
   },
   "source": [
    "##### Exemple: findFirst"
   ]
  },
  {
   "cell_type": "code",
   "execution_count": null,
   "metadata": {
    "ExecuteTime": {
     "end_time": "2021-01-13T13:31+0000",
     "start_time": "2021-01-13T13:29:25.807Z"
    },
    "hidden": true
   },
   "outputs": [],
   "source": [
    "import java.util.stream.Stream;\n",
    "\n",
    "List<Double> nums = Arrays.asList(new Double[]{3.4,2.5,6.6,7.3,-3.2}); //Font\n",
    "\n",
    "Stream<Double> numsStream = nums.stream(); //Crea un stream de números de tipus double\n",
    "\n",
    "//Retorna el primer element de l'stream\n",
    "Optional<Double> first = numsStream.findFirst();\n",
    "\n",
    "System.out.println(first.get());\n",
    "\n",
    "Stream<Double> numsStream = nums.stream(); //Cal tornar a crear l'stream\n",
    "\n",
    "//Troba el primer element negatiu (menor que 0)\n",
    "Optional<Double> firstNegative = numsStream.filter(x -> x < 0).findFirst();\n",
    "\n",
    "System.out.println(firstNegative.get());"
   ]
  },
  {
   "cell_type": "markdown",
   "metadata": {
    "heading_collapsed": true,
    "hidden": true
   },
   "source": [
    "##### Exemple: max and min"
   ]
  },
  {
   "cell_type": "code",
   "execution_count": null,
   "metadata": {
    "ExecuteTime": {
     "end_time": "2021-01-17T10:46+0000",
     "start_time": "2021-01-17T10:44:10.269Z"
    },
    "hidden": true
   },
   "outputs": [],
   "source": [
    "import java.util.stream.Stream;\n",
    "\n",
    "List<Double> nums = Arrays.asList(new Double[]{3.4,2.5,6.6,7.3,-3.2}); //Source\n",
    "\n",
    "//Retorna el primer element de l'stream\n",
    "Optional<Double> max = nums.stream().max(Comparator.naturalOrder());\n",
    "\n",
    "Optional<Double> min = nums.stream().min(Comparator.naturalOrder());\n",
    "\n",
    "System.out.println(\"\\nMax and min using Comparator.natualOrder() as argument to max() and min(): \");\n",
    "System.out.println(\"max: \" + max.get());\n",
    "System.out.println(\"min: \" + min.get());\n",
    "\n",
    "double maxd = nums.stream().mapToDouble(Double::doubleValue).max().getAsDouble();\n",
    "double mind = nums.stream().mapToDouble(Double::doubleValue).min().getAsDouble();\n",
    "\n",
    "System.out.println(\"\\nMax and min using mapToDouble and parameterless max() and min(): \");\n",
    "System.out.println(\"max: \" + maxd);\n",
    "System.out.println(\"min: \" + mind);"
   ]
  },
  {
   "cell_type": "markdown",
   "metadata": {
    "heading_collapsed": true,
    "hidden": true
   },
   "source": [
    "##### Exemple: toArray"
   ]
  },
  {
   "cell_type": "code",
   "execution_count": null,
   "metadata": {
    "ExecuteTime": {
     "end_time": "2021-01-17T10:40+0000",
     "start_time": "2021-01-17T10:38:40.478Z"
    },
    "hidden": true
   },
   "outputs": [],
   "source": [
    "//toArray() returns an array containing the elements of the stream\n",
    "\n",
    "import java.util.stream.Stream;\n",
    "\n",
    "List<String> oss = new ArrayList<>();\n",
    "oss.add(\"Linux\");\n",
    "oss.add(\"Solaris\");\n",
    "oss.add(\"Unix\");\n",
    "oss.add(\"BSD\");\n",
    "\n",
    "String[] ossArr = oss.stream().filter(s -> !s.endsWith(\"x\")).toArray(String[]::new);\n",
    "\n",
    "System.out.println(Arrays.toString(ossArr));\n"
   ]
  },
  {
   "cell_type": "markdown",
   "metadata": {
    "heading_collapsed": true,
    "hidden": true
   },
   "source": [
    "##### Exemple: count"
   ]
  },
  {
   "cell_type": "code",
   "execution_count": null,
   "metadata": {
    "ExecuteTime": {
     "end_time": "2021-01-17T10:44+0000",
     "start_time": "2021-01-17T10:42:11.190Z"
    },
    "hidden": true
   },
   "outputs": [],
   "source": [
    "// count() returns how many elements are in the stream\n",
    "\n",
    "List<Double> nums = Arrays.asList(new Double[]{3.4,2.5,6.6,7.3,-3.2}); //source\n",
    "\n",
    "System.out.println(nums.size() == nums.stream().count()); //true"
   ]
  },
  {
   "cell_type": "markdown",
   "metadata": {
    "heading_collapsed": true,
    "hidden": true
   },
   "source": [
    "##### Exemple: average, sum"
   ]
  },
  {
   "cell_type": "code",
   "execution_count": null,
   "metadata": {
    "ExecuteTime": {
     "end_time": "2021-01-17T10:56+0000",
     "start_time": "2021-01-17T10:55:08.715Z"
    },
    "hidden": true
   },
   "outputs": [],
   "source": [
    "// average() returns the arithmetic mean of the stream\n",
    "\n",
    "import java.util.stream.DoubleStream;\n",
    "\n",
    "double[] nums = {3.4,2.5,6.6,7.3,-3.2};\n",
    "\n",
    "DoubleStream ds = DoubleStream.of(nums); \n",
    "\n",
    "OptionalDouble avg = ds.average(); //returns an OptionalDouble\n",
    "\n",
    "//ds stream is already consumed, \n",
    "//so it is needed to create a new stream\n",
    "DoubleStream ds = DoubleStream.of(nums); \n",
    "\n",
    "double sum = ds.sum(); //returns a double\n",
    "\n",
    "System.out.println(\"Average = \" + avg.getAsDouble());\n",
    "System.out.println(\"Sum = \" + sum);"
   ]
  },
  {
   "cell_type": "markdown",
   "metadata": {
    "hidden": true,
    "solution2": "shown",
    "solution2_first": true
   },
   "source": [
    "**Question**: \n",
    "\n",
    "Why ``average()`` returns an Optional type, and ``sum`` returns a primitive type?"
   ]
  },
  {
   "cell_type": "markdown",
   "metadata": {
    "hidden": true,
    "solution2": "shown"
   },
   "source": [
    "Because the stream could be **empty**: the average of an empty stream is undefined, but the sum of an empty stream is 0."
   ]
  },
  {
   "cell_type": "markdown",
   "metadata": {
    "heading_collapsed": true,
    "hidden": true
   },
   "source": [
    "##### Exemple: forEach"
   ]
  },
  {
   "cell_type": "markdown",
   "metadata": {
    "hidden": true
   },
   "source": [
    "L'acció ``forEach(Consumer c)`` fa una acció sobre cada element de l'stream:\n",
    "\n",
    "[void forEach(Consumer<? super T> action)](https://docs.oracle.com/javase/8/docs/api/java/util/stream/Stream.html#forEach-java.util.function.Consumer-)\n"
   ]
  },
  {
   "cell_type": "code",
   "execution_count": null,
   "metadata": {
    "ExecuteTime": {
     "end_time": "2021-01-17T11:13+0000",
     "start_time": "2021-01-17T11:11:56.560Z"
    },
    "hidden": true
   },
   "outputs": [],
   "source": [
    "import java.util.stream.Stream;\n",
    "\n",
    "Stream<String> cads = Arrays.stream(new String[]{\"Hello\",\"world\"});\n",
    "\n",
    "cads.map(String::toUpperCase).map(s -> s + \" \").forEach(System.out::print);"
   ]
  },
  {
   "cell_type": "markdown",
   "metadata": {
    "hidden": true
   },
   "source": [
    "```.forEach(System.out::print)```\n",
    "\n",
    "![Stream forEach](https://drive.google.com/uc?export=view&id=1Tks-dIGqTIlpl42S7An0YyLvL8tdczDP)"
   ]
  },
  {
   "cell_type": "markdown",
   "metadata": {
    "heading_collapsed": true,
    "hidden": true
   },
   "source": [
    "### Operació terminal ``collect()``"
   ]
  },
  {
   "cell_type": "markdown",
   "metadata": {
    "hidden": true
   },
   "source": [
    "La signatura de l'operació terminal [``collect()``](https://docs.oracle.com/javase/8/docs/api/java/util/stream/Stream.html#collect-java.util.function.Supplier-java.util.function.BiConsumer-java.util.function.BiConsumer-) és:\n",
    "\n",
    "```java\n",
    "<R> R collect(Supplier<R> supplier, \n",
    "              BiConsumer<R, ? super T> accumulator, \n",
    "              BiConsumer<R, R> combiner)\n",
    "```\n",
    "\n",
    "Veiem que té 3 paràmetres (que són interfícies funcionals):\n",
    "\n",
    "* Un de tipus ``Supplier<R>``, anomenat supplier.\n",
    "\n",
    "* Dos de tipus ``BiConsumer``, anomenats accumulator i combiner.\n",
    "\n",
    "Existeix també una **sobrecàrrega** del mètode [``collect()``](https://docs.oracle.com/javase/8/docs/api/java/util/stream/Stream.html#collect-java.util.stream.Collector-) que només té un paràmetre:\n",
    "\n",
    "```java\n",
    "<R, A> R collect(Collector<? super T, A, R> collector)\n",
    "```\n",
    "\n",
    "* Té un únic paràmetre de tipus [``Collector<T,A,R>``](https://docs.oracle.com/javase/8/docs/api/java/util/stream/Collector.html), anomenat collector.\n",
    "\n",
    "\n",
    "``Collector<T,A,R>`` és una interfície que **encapsula** tres objectes: un supplier, un accumulator i un combiner.\n",
    "\n",
    "A continuació expliquem breument cadascuna d'aquestes interfícies:"
   ]
  },
  {
   "cell_type": "markdown",
   "metadata": {
    "heading_collapsed": true,
    "hidden": true
   },
   "source": [
    "#### Interfície funcional ``Supplier<R>`` "
   ]
  },
  {
   "cell_type": "markdown",
   "metadata": {
    "hidden": true
   },
   "source": [
    "La interfície funcional [Supplier<R>](https://docs.oracle.com/javase/8/docs/api/java/util/function/Supplier.html) proporciona o ens proveeix un objecte (de tipus de dada -genèric- ``R`` -R de _Result_). El seu mètode abstracte és ``get()`` i no rep cap valor com a entrada (no té paràmetres) i **retorna un objecte**. Per això se l'anomena _supplier_.\n",
    "    \n",
    "S'usa sempre que necessitem una funció que, sense passar-li res, volem que ens retorni _alguna cosa_ (un objecte del tipus de dada que sigui).\n",
    "    \n",
    "```java\n",
    "@FunctionalInterface\n",
    "public interface Supplier<T> {\n",
    "    T get();\n",
    "}\n",
    "```\n",
    "    \n",
    "L'operació terminal ``collect()`` necessita un ``Supplier``."
   ]
  },
  {
   "cell_type": "markdown",
   "metadata": {
    "heading_collapsed": true,
    "hidden": true
   },
   "source": [
    "##### Exemple:"
   ]
  },
  {
   "cell_type": "code",
   "execution_count": null,
   "metadata": {
    "ExecuteTime": {
     "end_time": "2021-01-14T12:03+0000",
     "start_time": "2021-01-14T12:01:33.625Z"
    },
    "hidden": true
   },
   "outputs": [],
   "source": [
    "import java.util.function.Supplier; \n",
    "\n",
    "// This function returns a random value. \n",
    "Supplier<Double> randomValue = () -> Math.random(); \n",
    "\n",
    "// Print the random value using get() \n",
    "System.out.println(randomValue.get()); "
   ]
  },
  {
   "cell_type": "markdown",
   "metadata": {
    "heading_collapsed": true,
    "hidden": true
   },
   "source": [
    "##### Exemple:"
   ]
  },
  {
   "cell_type": "code",
   "execution_count": null,
   "metadata": {
    "ExecuteTime": {
     "end_time": "2021-01-14T13:31+0000",
     "start_time": "2021-01-14T13:30:07.262Z"
    },
    "hidden": true
   },
   "outputs": [],
   "source": [
    "import java.util.function.Supplier; \n",
    "\n",
    "//All parameterless constructors are suppliers\n",
    "\n",
    "Supplier<StringBuffer> sb = () -> new StringBuffer();"
   ]
  },
  {
   "cell_type": "markdown",
   "metadata": {
    "heading_collapsed": true,
    "hidden": true
   },
   "source": [
    "#### Interfície funcional ``Consumer<T>`` "
   ]
  },
  {
   "cell_type": "markdown",
   "metadata": {
    "hidden": true
   },
   "source": [
    "Aquesta interfície funcional [``Consumer<T>``](https://docs.oracle.com/javase/8/docs/api/java/util/function/Consumer.html) representa una operació que accepta o rep un sol argument o valor d'entrada, i no retorna res. És a dir, **_consumeix_ un objecte**, sense retornar res:\n",
    "\n",
    "```java\n",
    "@FunctionalInterface\n",
    "public interface Consumer<T> {\n",
    "  void accept(T t);\n",
    "}\n",
    "```"
   ]
  },
  {
   "cell_type": "markdown",
   "metadata": {
    "heading_collapsed": true,
    "hidden": true
   },
   "source": [
    "##### Exemple:"
   ]
  },
  {
   "cell_type": "code",
   "execution_count": null,
   "metadata": {
    "ExecuteTime": {
     "end_time": "2021-01-14T12:46+0000",
     "start_time": "2021-01-14T12:44:13.840Z"
    },
    "hidden": true
   },
   "outputs": [],
   "source": [
    "import java.util.function.Consumer;\n",
    "\n",
    "\n",
    "//Consumes a String and returns nothing\n",
    "//(prints the string but returns nothing)\n",
    "\n",
    "Consumer<String> print = x -> System.out.println(x);\n",
    "print.accept(\"java\");\n"
   ]
  },
  {
   "cell_type": "markdown",
   "metadata": {
    "heading_collapsed": true,
    "hidden": true
   },
   "source": [
    "#### Interfície funcional ``BiConsumer<T,U>`` "
   ]
  },
  {
   "cell_type": "markdown",
   "metadata": {
    "hidden": true
   },
   "source": [
    "Aquesta interfície funcional [``BiConsumer<T,U>``](https://docs.oracle.com/javase/8/docs/api/java/util/function/BiConsumer.html) és similar a ``Consumer<T>`` però amb la diferència que consumeix 2 objectes (que poden ser del mateix tipus o de diferents tipus de dades) enlloc d'un:\n",
    "\n",
    "```java\n",
    "@FunctionalInterface\n",
    "public interface BiConsumer<T, U> {\n",
    "  void accept(T t, U u);\n",
    "}\n",
    "```"
   ]
  },
  {
   "cell_type": "markdown",
   "metadata": {
    "heading_collapsed": true,
    "hidden": true
   },
   "source": [
    "##### Exemple:"
   ]
  },
  {
   "cell_type": "code",
   "execution_count": null,
   "metadata": {
    "ExecuteTime": {
     "end_time": "2021-01-14T12:52+0000",
     "start_time": "2021-01-14T12:50:45.494Z"
    },
    "hidden": true
   },
   "outputs": [],
   "source": [
    "import java.util.function.BiConsumer;\n",
    "\n",
    "//Consumes two Interger and returns nothing\n",
    "//(prints the sum of the two Integer, but returns nothing)\n",
    "\n",
    "BiConsumer<Integer, Integer> addTwo = (x, y) -> System.out.println(x + y);\n",
    "addTwo.accept(1, 2);"
   ]
  },
  {
   "cell_type": "markdown",
   "metadata": {
    "heading_collapsed": true,
    "hidden": true
   },
   "source": [
    "#### **Què fa ``collect()`` ?**"
   ]
  },
  {
   "cell_type": "markdown",
   "metadata": {
    "hidden": true
   },
   "source": [
    "Un cop hem entès què fan les interfícies funcionals ``Supplier`` i ``BiConsumer``, podem entendre què fa l'operació terminal ``collect()``:\n",
    "\n",
    "Primer ``collect()`` obté un objecte gràcies al supplier. Aquest objecte podrà ser qualsevol objecte que sigui un **contenidor mutable**:\n",
    "\n",
    "* **contenidor** vol dir que ha de ser un objecte capaç d'encapsular altres objectes (com una ``Collection`` -una ``List``, un ``Set`` etc). \n",
    "\n",
    "* **mutable** vol dir que ha de ser un objecte que el seu estat no sigui [immutable](immutability), és a dir, que sigui possible canviar els valors de les seves propietats o els valors dels objectes que encapsula.\n",
    "\n",
    "A continuació, ``collect()`` va **acumulant** els elements de l'stream a dins de l'objecte generat pel supplier. D'anar acumulant (és a dir, ficant a dins) els elements de l'stream, se n'encarrega l'_accumulator_, que és un ``BiConsumer``. Els dos objectes que ``BiConsumer`` consumeix són l'**objecte generat pel supplier i un element de l'stream**.\n",
    "\n",
    "Si l'stream és un **stream seqüencial**, ``collect()`` ja no fa res més. \n",
    "\n",
    "Si l'stream és un **stream paral·lel** tindrem diferents _accumulators_ que van ficant, de forma paral·lela, elements de l'stream a differents objectes generats pel supplier (**un objecte per a cada fil d'execució**), d'aquesta manera el _combiner_ (que també és un objecte de tipus ``BiConsumer``) s'encarregarà de fusionar o combinar els diferents objectes contenidors que li arribin de cada fil d'execució, per a obtenir un únic objecte contenidor amb tots els elements de l'stream. **El _combiner_ consumeix dos objectes contenidors i els fusiona**."
   ]
  },
  {
   "cell_type": "markdown",
   "metadata": {
    "hidden": true
   },
   "source": [
    "##### Exemple:"
   ]
  },
  {
   "cell_type": "code",
   "execution_count": null,
   "metadata": {
    "ExecuteTime": {
     "end_time": "2021-01-14T13:28+0000",
     "start_time": "2021-01-14T13:26:58.646Z"
    },
    "hidden": true
   },
   "outputs": [],
   "source": [
    "import java.util.stream.Stream;\n",
    "\n",
    "List<String> vowels = List.of(\"a\", \"e\", \"i\", \"o\", \"u\");\n",
    "\n",
    "// sequential stream - nothing to combine\n",
    "StringBuilder result = vowels.stream().collect(\n",
    "        StringBuilder::new, //supplier\n",
    "        (x, y) -> x.append(y), //accumulator\n",
    "        (a, b) -> a.append(\",\").append(b) //combiner: nothing to combine\n",
    "        );\n",
    "System.out.println(result.toString());"
   ]
  },
  {
   "cell_type": "code",
   "execution_count": null,
   "metadata": {
    "ExecuteTime": {
     "end_time": "2021-01-14T13:28+0000",
     "start_time": "2021-01-14T13:26:55.571Z"
    },
    "hidden": true
   },
   "outputs": [],
   "source": [
    "// parallel stream - combiner is combining partial results\n",
    "StringBuilder result1 = vowels.parallelStream().collect(\n",
    "        StringBuilder::new, //supplier\n",
    "        (x, y) -> x.append(y), //accumulator\n",
    "        (a, b) -> a.append(\",\").append(b) //combiner\n",
    "        );\n",
    "System.out.println(result1.toString());"
   ]
  },
  {
   "cell_type": "markdown",
   "metadata": {
    "hidden": true
   },
   "source": [
    "#### ``collect()`` amb ``Collector``"
   ]
  },
  {
   "cell_type": "markdown",
   "metadata": {
    "hidden": true
   },
   "source": [
    "El desenvolupador o programador **pot crear-se la seva pròpia classe que implementi la interfície** ``Collector``, però en aquest apartat simplement veiem **exemples d'ús** de ``collect()`` amb ``Collector``s que estan disponibles a l'API de Java des de la versió 8:"
   ]
  },
  {
   "cell_type": "markdown",
   "metadata": {
    "hidden": true
   },
   "source": [
    "##### Exemple Collectors.toList():"
   ]
  },
  {
   "cell_type": "code",
   "execution_count": null,
   "metadata": {
    "ExecuteTime": {
     "end_time": "2021-01-14T15:05+0000",
     "start_time": "2021-01-14T15:03:38.983Z"
    },
    "hidden": true
   },
   "outputs": [],
   "source": [
    "import java.util.stream.Stream;\n",
    "import static java.util.stream.Collectors.toList;\n",
    "\n",
    "List<Integer> ints = Arrays.asList(\n",
    "                    new Integer[]{3,-4,-6,4,8,2,-5,8,-1,4,11}\n",
    "                    ); //Font\n",
    "\n",
    "Stream<Integer> intsStream = ints.stream().filter(x -> x > 0);\n",
    "\n",
    "//Collects stream elements into a List\n",
    "//(List implementation is unknown)\n",
    "\n",
    "List<Integer> positives = intsStream.collect(toList());\n",
    "\n",
    "System.out.println(positives);"
   ]
  },
  {
   "cell_type": "markdown",
   "metadata": {
    "heading_collapsed": true,
    "hidden": true
   },
   "source": [
    "##### Exemple Collectors.toUnmodifiableList():"
   ]
  },
  {
   "cell_type": "code",
   "execution_count": null,
   "metadata": {
    "ExecuteTime": {
     "end_time": "2021-01-14T15:05+0000",
     "start_time": "2021-01-14T15:03:42.574Z"
    },
    "hidden": true
   },
   "outputs": [],
   "source": [
    "import java.util.stream.Stream;\n",
    "import static java.util.stream.Collectors.toUnmodifiableList;\n",
    "\n",
    "//Java 10 introduced a convenient way \n",
    "//to accumulate the Stream elements into \n",
    "//an unmodifiable List (immutable list):\n",
    "\n",
    "List<Integer> ints = Arrays.asList(\n",
    "                    new Integer[]{3,-4,-6,4,8,2,-5,8,-1,4,11}\n",
    "                    ); //Font\n",
    "\n",
    "List<Integer> immutableList = ints.stream()\n",
    "                        .collect(toUnmodifiableList());\n",
    "\n",
    "//If we now try to modify the result List,\n",
    "//we get an UnsupportedOperationException\n",
    "\n",
    "immutableList.add(12); //throws UnsupportedOperationException\n",
    "\n"
   ]
  },
  {
   "cell_type": "markdown",
   "metadata": {
    "heading_collapsed": true,
    "hidden": true
   },
   "source": [
    "##### Exemple Collectors.toSet():"
   ]
  },
  {
   "cell_type": "code",
   "execution_count": null,
   "metadata": {
    "ExecuteTime": {
     "end_time": "2021-01-14T15:05+0000",
     "start_time": "2021-01-14T15:03:47.423Z"
    },
    "hidden": true
   },
   "outputs": [],
   "source": [
    "import java.util.stream.Stream;\n",
    "import static java.util.stream.Collectors.toSet;\n",
    "\n",
    "List<Integer> ints = Arrays.asList(\n",
    "            new Integer[]{3,3,3,4,5,5,5,6,6,6,7,8,8,9}\n",
    "            ); //Font\n",
    "\n",
    "//A Set does NOT contain repeated elements:\n",
    "//(Set implementation is unknown)\n",
    "\n",
    "Set<Integer> intsSet = ints.stream()\n",
    "                        .collect(toSet());\n",
    "\n",
    "System.out.println(intsSet);\n",
    "\n",
    "//Similarly as in toUnmodifiableList, \n",
    "//there is an toUnmodifiableSet"
   ]
  },
  {
   "cell_type": "markdown",
   "metadata": {
    "heading_collapsed": true,
    "hidden": true
   },
   "source": [
    "##### Exemple Collectors.toCollection():"
   ]
  },
  {
   "cell_type": "code",
   "execution_count": null,
   "metadata": {
    "ExecuteTime": {
     "end_time": "2021-01-14T15:05+0000",
     "start_time": "2021-01-14T15:03:53.590Z"
    },
    "hidden": true
   },
   "outputs": [],
   "source": [
    "// When using toSet and toList collectors, \n",
    "// you can't make any assumptions of their implementations. \n",
    "// If you want to use a custom implementation, you will need to use \n",
    "// the toCollection collector with a provided collection of your choice:\n",
    "\n",
    "import java.util.stream.Stream;\n",
    "import static java.util.stream.Collectors.toCollection;\n",
    "\n",
    "List<Integer> ints = Arrays.asList(\n",
    "                    new Integer[]{3,-4,-6,4,8,2,-5,8,-1,4,11}\n",
    "                    ); //Font\n",
    "\n",
    "Stream<Integer> intsStream = ints.stream().filter(x -> x > 0);\n",
    "\n",
    "//Collects stream elements into a Collection\n",
    "//Implementation can be specified:\n",
    "\n",
    "List<Integer> positives = intsStream.collect(toCollection(ArrayList::new));\n",
    "\n",
    "//positives is an ArrayList !!\n"
   ]
  },
  {
   "cell_type": "markdown",
   "metadata": {
    "heading_collapsed": true,
    "hidden": true
   },
   "source": [
    "##### Exemple: Collectors.toMap():"
   ]
  },
  {
   "cell_type": "code",
   "execution_count": null,
   "metadata": {
    "ExecuteTime": {
     "end_time": "2021-01-14T15:13+0000",
     "start_time": "2021-01-14T15:11:46.431Z"
    },
    "hidden": true
   },
   "outputs": [],
   "source": [
    "//toMap needs two functions:\n",
    "// keyMapper\n",
    "// valueMapper\n",
    "\n",
    "//keyMapper will be used for extracting a Map key from a Stream element\n",
    "//valueMapper will be used for extracting a value associated with a given key\n",
    "\n",
    "import java.util.stream.Stream;\n",
    "import java.util.function.Function;\n",
    "import static java.util.stream.Collectors.toMap;\n",
    "\n",
    "List<String> texts = Arrays.asList(\n",
    "                    new String[]{\"pluralcamp\",\"dot\",\"com\"}\n",
    "                    ); //Source\n",
    "\n",
    "Map<String, Integer> resultMap = texts.stream()\n",
    "                          .collect(toMap(Function.identity(), String::length));\n",
    "\n",
    "System.out.println(resultMap);"
   ]
  },
  {
   "cell_type": "markdown",
   "metadata": {
    "heading_collapsed": true,
    "hidden": true
   },
   "source": [
    "### Operació terminal ``reduce()``"
   ]
  },
  {
   "cell_type": "markdown",
   "metadata": {
    "hidden": true
   },
   "source": [
    "//TODO (pendent de fer) (no entrarà a l'examen)"
   ]
  },
  {
   "cell_type": "markdown",
   "metadata": {
    "hidden": true
   },
   "source": [
    "### Fusing, laziness and parallelism"
   ]
  },
  {
   "cell_type": "markdown",
   "metadata": {
    "hidden": true
   },
   "source": [
    "#### Fusing "
   ]
  },
  {
   "cell_type": "markdown",
   "metadata": {
    "hidden": true
   },
   "source": [
    "_Fusing_ (o fusió) és el concepte que explica com es poden **encadenar** diferents streams i _fusionar-los_ en **un únic _pipeline_**. Aquest _pipeline_, però, està compost de l'encadenament o fusió de diferents streams, doncs de la font surt un stream, però cada vegada que s'hi aplica una operació intermitja es crea un nou stream (recordeu que els streams són **immutables**).\n",
    "\n",
    "Així, per al següent exemple:\n",
    "\n",
    "```java\n",
    "my_stream.map(x -> x.squash()).\n",
    "    filter(x -> x.getColor() != YELLOW).\n",
    "    .forEach(System.out::println);\n",
    "```\n",
    "\n",
    "el fusing ens proporciona el següent _pipeline_:\n",
    "\n",
    "![Stream fusing](https://drive.google.com/uc?export=view&id=1Eq27uXvGf-Kq2nMDcjrWTvH6RIYkCxy3)\n"
   ]
  },
  {
   "cell_type": "markdown",
   "metadata": {
    "ExecuteTime": {
     "end_time": "2021-01-17T11:55+0000",
     "start_time": "2021-01-17T11:53:28.128Z"
    },
    "hidden": true
   },
   "source": [
    "#### Laziness"
   ]
  },
  {
   "cell_type": "markdown",
   "metadata": {
    "hidden": true
   },
   "source": [
    "Totes les operacions intermitges són **``lazy``** (mandroses). \n",
    "\n",
    "Això vol dir que **les operacions intermitges no s'executen quan es criden**, sino que **queden a l'espera de que s'executi un operació terminal**:\n",
    "\n",
    "> En el següent exemple ``my_newStream`` no existeix **encara** ja que les operacions intermitges ``map`` i ``filter`` són lazy i encara no s'han executat:\n",
    "\n",
    "```java\n",
    "Stream my_newStream = my_stream.map(x -> x.squash()).\n",
    "    filter(x -> x.getColor() != YELLOW);\n",
    "```\n",
    "\n",
    "> En el moment que es crida una operació terminal sobre ``my_newStream``, només en aquest moment, es criden primer **totes** les operacions intermitges, es genera el nou stream ``my_newStream`` i s'executa l'operació terminal:\n",
    "\n",
    "```java\n",
    "my_newStream.forEach(System.out::println);\n",
    "```"
   ]
  },
  {
   "cell_type": "markdown",
   "metadata": {
    "hidden": true
   },
   "source": [
    "#### Parallelism"
   ]
  },
  {
   "cell_type": "markdown",
   "metadata": {
    "hidden": true
   },
   "source": [
    "La disponibilitat de CPU multi-core i multifil, la possibilitat d'executar processos distribuits en clusters de servidors de processament i tecnologies similars, ens permet executar paral·lelament els càlculs.\n",
    "\n",
    "_Exemple de CPU multicore i multifil_:\n",
    "\n",
    "![Multiple cpu](https://drive.google.com/uc?export=view&id=135BvH9owcmGgITZ-PT57AZ6a5Cbm2Rzp)\n",
    "\n",
    "Per al processament de petites quantitats de dades, la diferència de rendiment entre una execució seqüencial (en un sol fil d'execució) i una execució paral·lela (entre diferents fils d'execució) és petita i moltes vegades no en notarem la diferència. Però per a estudis científics o en entorns Big Data, la diferència de rendiment és abismal, determinant.\n",
    "\n",
    "**Els streams de Java estan preparats per a la computació paral·lela**:\n",
    "\n",
    "```java\n",
    "//Creates a sequential stream:\n",
    "Stream<Double> numsStream = numsList.stream();\n",
    "\n",
    "//Creates a parallel stream:\n",
    "Stream<Double> numsParallelStream = numsList.parallelStream(); \n",
    "```\n"
   ]
  },
  {
   "cell_type": "markdown",
   "metadata": {
    "ExecuteTime": {
     "end_time": "2021-01-17T12:33+0000",
     "start_time": "2021-01-17T12:31:22.223Z"
    },
    "hidden": true
   },
   "source": [
    "##### Exemple:"
   ]
  },
  {
   "cell_type": "code",
   "execution_count": null,
   "metadata": {
    "ExecuteTime": {
     "end_time": "2021-01-17T12:55+0000",
     "start_time": "2021-01-17T12:53:37.316Z"
    },
    "hidden": true
   },
   "outputs": [],
   "source": [
    "//Returns a List<String> made from chars\n",
    "List<String> getData() {\n",
    "\n",
    "        List<String> alpha = new ArrayList<>();\n",
    "\n",
    "        int n = 97;  // 97 = a , 122 = z\n",
    "        while (n <= 122) {\n",
    "            char c = (char) n;\n",
    "            alpha.add(String.valueOf(c));\n",
    "            n++;\n",
    "        }\n",
    "\n",
    "        return alpha;\n",
    "}\n",
    "\n",
    "System.out.println(\"Sequential execution (preserves order):\");\n",
    "\n",
    "List<String> alpha = getData();\n",
    "alpha.stream().map(s -> s + \" \").forEach(System.out::print); //sequential order\n",
    "\n",
    "System.out.println(\"\\n\\nParallel execution (any order):\"); \n",
    "\n",
    "List<String> alpha2 = getData();\n",
    "alpha2.parallelStream().map(s -> s + \" \").forEach(System.out::print); //non-ordered"
   ]
  },
  {
   "cell_type": "markdown",
   "metadata": {
    "hidden": true
   },
   "source": [
    "##### Exemple:"
   ]
  },
  {
   "cell_type": "code",
   "execution_count": null,
   "metadata": {
    "ExecuteTime": {
     "end_time": "2021-01-17T12:55+0000",
     "start_time": "2021-01-17T12:53:40.235Z"
    },
    "hidden": true
   },
   "outputs": [],
   "source": [
    "import java.util.stream.IntStream;\n",
    "\n",
    "System.out.println(\"Sequential execution (preserves order):\");\n",
    "      \n",
    "IntStream range = IntStream.rangeClosed(0, 9);\n",
    "range.forEach(System.out::print);\n",
    "\n",
    "System.out.println(\"\\n\\nParallel execution (any order):\");\n",
    "\n",
    "IntStream range2 = IntStream.rangeClosed(0, 9);\n",
    "range2.parallel().forEach(System.out::print);"
   ]
  },
  {
   "cell_type": "markdown",
   "metadata": {
    "heading_collapsed": true
   },
   "source": [
    "## La classe ``Optional``"
   ]
  },
  {
   "cell_type": "markdown",
   "metadata": {
    "hidden": true
   },
   "source": [
    "Els qui hem programat amb Java més temps o menys, ens hem trobat en moltes ocasions situacions en les que el resultat retornat o obtingut era ``null``, i si en el programa es té una referencia a un objecte  que no està inicialitzat o bé que té per valor ``null``, ens llençarà una excepció ``NullPointerException`` si hi intentem cridar un mètode o realitzar alguna acció. \n",
    "\n",
    "Veiem un exemple que pot llençar un ``NullPointerException``, i a continuació veiem un exemple de com podem usar ``Optional`` per a solucionar l'exemple anterior:\n",
    "\n"
   ]
  },
  {
   "cell_type": "markdown",
   "metadata": {
    "heading_collapsed": true,
    "hidden": true
   },
   "source": [
    "##### Exemple:"
   ]
  },
  {
   "cell_type": "code",
   "execution_count": null,
   "metadata": {
    "ExecuteTime": {
     "end_time": "2021-01-17T13:57+0000",
     "start_time": "2021-01-17T13:55:41.952Z"
    },
    "hidden": true
   },
   "outputs": [],
   "source": [
    "//If input including word java is entered, program executes fine\n",
    "//If input does not include word java, NullPointerException is thrown\n",
    "\n",
    "String word = \"java\";\n",
    "Scanner input = new Scanner(System.in); \n",
    "System.out.println(\"Write a sentence contining \" + word + \":\"); \n",
    "String sentence = input.findInLine(word);\n",
    "\n",
    "String wordToUpper = sentence.toUpperCase();\n",
    "\n",
    "System.out.println(\"Thank you! We love \" + wordToUpper);\n",
    "    "
   ]
  },
  {
   "cell_type": "markdown",
   "metadata": {
    "hidden": true,
    "solution2": "shown",
    "solution2_first": true
   },
   "source": [
    "**Question**:\n",
    "\n",
    "Per què es llença una ``NullPointerException`` en aquest darrer exemple?"
   ]
  },
  {
   "cell_type": "markdown",
   "metadata": {
    "hidden": true,
    "solution2": "shown"
   },
   "source": [
    "Perquè el mètode ``findInLine(Pattern pattern)`` retorna un ``String`` que és un substring de l'string des del qual es crida el mètode (_input_ en aquest cas) si hi troba aquest substring, que haurà de complir amb el patró que se li passa com a argument.\n",
    "\n",
    "En aquest cas, el patró és simplement la paraula guardada a la variable _word_, que és ``java``. Per tant, si troba ``java`` a _input_ retornarà ``java``. Però si no troba el patró (la paraula ``java`` en aquest cas) retorna ``null``.\n",
    "\n",
    "Si la frase que entrem per teclat, i que es guarda a _input_, no conté ``java``, l'String _sentence_ serà ``null`` i en fer ``sentence.toUpperCase();`` es llençarà l'excepció ``NullPointerException``."
   ]
  },
  {
   "cell_type": "markdown",
   "metadata": {
    "heading_collapsed": true,
    "hidden": true
   },
   "source": [
    "##### Exemple: Solució amb ``Optional``"
   ]
  },
  {
   "cell_type": "markdown",
   "metadata": {
    "hidden": true
   },
   "source": [
    "La classe ``Optional`` essencialment el què fa és **encapsular altres tipus de dades**, que poden pendre valors nulls, però l'objecte de tipus ``Optional`` mai serà nul.\n",
    "\n",
    "Així, podem solucionar de la següent manera l'exemple anterior en els casos en què l'usuari no entri una frase que contingui la paraula guardada a la variable _word_ (``java`` en l'exemple):"
   ]
  },
  {
   "cell_type": "code",
   "execution_count": null,
   "metadata": {
    "ExecuteTime": {
     "end_time": "2021-01-17T14:17+0000",
     "start_time": "2021-01-17T14:15:10.202Z"
    },
    "hidden": true
   },
   "outputs": [],
   "source": [
    "//If input including word java is entered, program executes fine\n",
    "//If input does not include word java, NullPointerException is thrown\n",
    "\n",
    "String word = \"java\";\n",
    "Scanner input = new Scanner(System.in); \n",
    "System.out.println(\"Write a sentence contining \" + word + \":\"); \n",
    "Optional<String> sentenceOpt = Optional.ofNullable(input.findInLine(word));\n",
    "\n",
    "if (sentenceOpt.isPresent()) {\n",
    "    String wordToUpper = sentenceOpt.get().toUpperCase();\n",
    "    System.out.println(\"Thank you! We love \" + wordToUpper);\n",
    "} else {\n",
    "    System.out.println(word + \" is not present!\");\n",
    "}"
   ]
  },
  {
   "cell_type": "code",
   "execution_count": null,
   "metadata": {
    "hidden": true
   },
   "outputs": [],
   "source": []
  }
 ],
 "metadata": {
  "kernelspec": {
   "display_name": "Java",
   "language": "java",
   "name": "java"
  },
  "language_info": {
   "codemirror_mode": "java",
   "file_extension": ".jshell",
   "mimetype": "text/x-java-source",
   "name": "Java",
   "pygments_lexer": "java",
   "version": "11.0.9+11-Ubuntu-0ubuntu1.20.04"
  },
  "nbTranslate": {
   "displayLangs": [
    "*"
   ],
   "hotkey": "alt-t",
   "langInMainMenu": true,
   "sourceLang": "en",
   "targetLang": "ca",
   "useGoogleTranslate": true
  },
  "toc": {
   "base_numbering": 1,
   "nav_menu": {
    "height": "96.9912px",
    "width": "259.457px"
   },
   "number_sections": true,
   "sideBar": true,
   "skip_h1_title": false,
   "title_cell": "Table of Contents",
   "title_sidebar": "Contents",
   "toc_cell": false,
   "toc_position": {
    "height": "calc(100% - 180px)",
    "left": "10px",
    "top": "150px",
    "width": "287.978px"
   },
   "toc_section_display": true,
   "toc_window_display": false
  },
  "varInspector": {
   "cols": {
    "lenName": 16,
    "lenType": 16,
    "lenVar": 40
   },
   "kernels_config": {
    "python": {
     "delete_cmd_postfix": "",
     "delete_cmd_prefix": "del ",
     "library": "var_list.py",
     "varRefreshCmd": "print(var_dic_list())"
    },
    "r": {
     "delete_cmd_postfix": ") ",
     "delete_cmd_prefix": "rm(",
     "library": "var_list.r",
     "varRefreshCmd": "cat(var_dic_list()) "
    }
   },
   "types_to_exclude": [
    "module",
    "function",
    "builtin_function_or_method",
    "instance",
    "_Feature"
   ],
   "window_display": false
  }
 },
 "nbformat": 4,
 "nbformat_minor": 4
}
